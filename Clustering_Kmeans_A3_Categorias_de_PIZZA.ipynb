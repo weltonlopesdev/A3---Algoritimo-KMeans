{
  "nbformat": 4,
  "nbformat_minor": 0,
  "metadata": {
    "colab": {
      "provenance": [],
      "include_colab_link": true
    },
    "kernelspec": {
      "name": "python3",
      "display_name": "Python 3"
    },
    "language_info": {
      "name": "python"
    }
  },
  "cells": [
    {
      "cell_type": "markdown",
      "metadata": {
        "id": "view-in-github",
        "colab_type": "text"
      },
      "source": [
        "<a href=\"https://colab.research.google.com/github/weltonlopesdev/A3---Algoritimo-KMeans/blob/main/Clustering_Kmeans_A3_Categorias_de_PIZZA.ipynb\" target=\"_parent\"><img src=\"https://colab.research.google.com/assets/colab-badge.svg\" alt=\"Open In Colab\"/></a>"
      ]
    },
    {
      "cell_type": "markdown",
      "source": [
        "## TRABALHO A3 - INTELIGÊNCIA ARTIFICIAL - UTILIZANDO O ALGORITIMO K.MEANS"
      ],
      "metadata": {
        "id": "EJdcOeq2ifLC"
      }
    },
    {
      "cell_type": "markdown",
      "source": [
        "![image.png](data:image/png;base64,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)"
      ],
      "metadata": {
        "id": "HCp-ONtZiOii"
      }
    },
    {
      "cell_type": "markdown",
      "source": [
        "Levantamento da Bibliografia. Definição dos dados, variáveis e metodologia\n",
        "\n",
        "\n",
        "\n",
        "**bibliografia:**\n",
        "\n",
        "https://repositorio-api.fei.edu.br/server/api/core/bitstreams/7be090ad-8ad7-403f-b1fb-f03a9652bb5e/content\n",
        "\n",
        "https://edisciplinas.usp.br/pluginfile.php/4461141/mod_resource/content/1/Aula21_Agrupamento_kmeans.pdf\n",
        "\n",
        "https://scikit-learn.org/stable/modules/generated/sklearn.cluster.KMeans.html\n",
        "\n",
        "https://realpython.com/k-means-clustering-python/\n",
        "\n",
        "\n",
        "**Definição dos dados:**\n",
        "\n",
        "Tipos de Pizza:\n",
        "\n",
        "**variáveis:** nome da pizza, categoria, ingredientes, price, tamanho\n",
        "\n",
        "**metodologia:** elbow(seleção de clusters)(welton), normalização de dados(ryan), exploração analitica(alexandre e lucas), avaliação de resultados obtidos.(andre)"
      ],
      "metadata": {
        "id": "0O16M2sj0lAM"
      }
    },
    {
      "cell_type": "markdown",
      "source": [
        "# Importando as bibliotecas necessárias"
      ],
      "metadata": {
        "id": "GJyAljHvUY2r"
      }
    },
    {
      "cell_type": "code",
      "source": [
        "from google.colab import drive\n",
        "drive.mount('/content/drive')"
      ],
      "metadata": {
        "id": "QoU5a_Jf3_WR",
        "colab": {
          "base_uri": "https://localhost:8080/"
        },
        "outputId": "449c4751-8e42-43dd-e9a1-c2f7ff1aa47f"
      },
      "execution_count": 1,
      "outputs": [
        {
          "output_type": "stream",
          "name": "stdout",
          "text": [
            "Mounted at /content/drive\n"
          ]
        }
      ]
    },
    {
      "cell_type": "code",
      "source": [
        "pip install scikit-learn"
      ],
      "metadata": {
        "colab": {
          "base_uri": "https://localhost:8080/"
        },
        "id": "Z1iFgDupU_Ql",
        "outputId": "000ab2b2-946b-4d59-b360-6ad43895566d"
      },
      "execution_count": 2,
      "outputs": [
        {
          "output_type": "stream",
          "name": "stdout",
          "text": [
            "Looking in indexes: https://pypi.org/simple, https://us-python.pkg.dev/colab-wheels/public/simple/\n",
            "Requirement already satisfied: scikit-learn in /usr/local/lib/python3.10/dist-packages (1.2.2)\n",
            "Requirement already satisfied: numpy>=1.17.3 in /usr/local/lib/python3.10/dist-packages (from scikit-learn) (1.22.4)\n",
            "Requirement already satisfied: scipy>=1.3.2 in /usr/local/lib/python3.10/dist-packages (from scikit-learn) (1.10.1)\n",
            "Requirement already satisfied: joblib>=1.1.1 in /usr/local/lib/python3.10/dist-packages (from scikit-learn) (1.2.0)\n",
            "Requirement already satisfied: threadpoolctl>=2.0.0 in /usr/local/lib/python3.10/dist-packages (from scikit-learn) (3.1.0)\n"
          ]
        }
      ]
    },
    {
      "cell_type": "code",
      "source": [
        "pip install matplotlib"
      ],
      "metadata": {
        "colab": {
          "base_uri": "https://localhost:8080/"
        },
        "id": "fQOYTszCVCEy",
        "outputId": "597dc9dd-efc2-447c-a2af-965ab06b6397"
      },
      "execution_count": 3,
      "outputs": [
        {
          "output_type": "stream",
          "name": "stdout",
          "text": [
            "Looking in indexes: https://pypi.org/simple, https://us-python.pkg.dev/colab-wheels/public/simple/\n",
            "Requirement already satisfied: matplotlib in /usr/local/lib/python3.10/dist-packages (3.7.1)\n",
            "Requirement already satisfied: contourpy>=1.0.1 in /usr/local/lib/python3.10/dist-packages (from matplotlib) (1.0.7)\n",
            "Requirement already satisfied: cycler>=0.10 in /usr/local/lib/python3.10/dist-packages (from matplotlib) (0.11.0)\n",
            "Requirement already satisfied: fonttools>=4.22.0 in /usr/local/lib/python3.10/dist-packages (from matplotlib) (4.39.3)\n",
            "Requirement already satisfied: kiwisolver>=1.0.1 in /usr/local/lib/python3.10/dist-packages (from matplotlib) (1.4.4)\n",
            "Requirement already satisfied: numpy>=1.20 in /usr/local/lib/python3.10/dist-packages (from matplotlib) (1.22.4)\n",
            "Requirement already satisfied: packaging>=20.0 in /usr/local/lib/python3.10/dist-packages (from matplotlib) (23.1)\n",
            "Requirement already satisfied: pillow>=6.2.0 in /usr/local/lib/python3.10/dist-packages (from matplotlib) (8.4.0)\n",
            "Requirement already satisfied: pyparsing>=2.3.1 in /usr/local/lib/python3.10/dist-packages (from matplotlib) (3.0.9)\n",
            "Requirement already satisfied: python-dateutil>=2.7 in /usr/local/lib/python3.10/dist-packages (from matplotlib) (2.8.2)\n",
            "Requirement already satisfied: six>=1.5 in /usr/local/lib/python3.10/dist-packages (from python-dateutil>=2.7->matplotlib) (1.16.0)\n"
          ]
        }
      ]
    },
    {
      "cell_type": "code",
      "source": [
        "import pandas as pd\n",
        "import numpy as np\n",
        "from datetime import datetime\n",
        "from sklearn.preprocessing import MinMaxScaler\n",
        "from sklearn.preprocessing import StandardScaler\n",
        "from sklearn.preprocessing import LabelEncoder\n",
        "from sklearn import preprocessing\n",
        "from sklearn.cluster import KMeans\n",
        "from IPython.display import Image\n",
        "import seaborn as sns\n",
        "import matplotlib.pyplot as plt\n",
        "from matplotlib.gridspec import GridSpec\n",
        "from functools import reduce\n",
        "import pickle\n",
        "import warnings\n",
        "warnings.filterwarnings(\"ignore\")"
      ],
      "metadata": {
        "id": "atJKdO7qAInt"
      },
      "execution_count": 4,
      "outputs": []
    },
    {
      "cell_type": "code",
      "source": [
        "df = pd.read_excel('/content/drive/MyDrive/Colab Notebooks/DataModelPizzaSales.xlsx')"
      ],
      "metadata": {
        "id": "-gOfZjGYzgCk"
      },
      "execution_count": 5,
      "outputs": []
    },
    {
      "cell_type": "markdown",
      "source": [
        "# Variaveis"
      ],
      "metadata": {
        "id": "ZFmxCxZFYKO-"
      }
    },
    {
      "cell_type": "markdown",
      "source": [
        "Será utilizada:\n",
        "\n",
        "  \n",
        "\n",
        "> **pizza_name:** variavel categorica\n",
        "\n",
        "> **pizza_category:** variavel categorica\n",
        "\n",
        "> **pizza_ingredients:** variavel categorica\n",
        "\n",
        "> **total_price:** variavel numerica\n",
        "\n",
        "> **pizza_size:** variavel categorica\n",
        "\n",
        "\n",
        "\n",
        "\n",
        "\n",
        "\n",
        "\n",
        "\n",
        "\n"
      ],
      "metadata": {
        "id": "WEIVs9lWdgOC"
      }
    },
    {
      "cell_type": "markdown",
      "source": [
        "**Diferença entre variavel categorica e variavel numerica**"
      ],
      "metadata": {
        "id": "jwBr8zSbXVeE"
      }
    },
    {
      "cell_type": "code",
      "source": [
        "Image(filename='/content/drive/MyDrive/Colab Notebooks/Tipos+de+Variáveis.png', width=900, height=600)"
      ],
      "metadata": {
        "colab": {
          "base_uri": "https://localhost:8080/",
          "height": 617
        },
        "id": "6wASsPPPYOj2",
        "outputId": "9285daf4-4fbd-459b-cdc6-0aa439cc055c"
      },
      "execution_count": 6,
      "outputs": [
        {
          "output_type": "execute_result",
          "data": {
            "image/png": "[encoded data removed]",
            "text/plain": [
              "<IPython.core.display.Image object>"
            ]
          },
          "metadata": {
            "image/png": {
              "width": 900,
              "height": 600
            }
          },
          "execution_count": 6
        }
      ]
    },
    {
      "cell_type": "code",
      "source": [
        "df.columns#mostrando todas as colunas"
      ],
      "metadata": {
        "colab": {
          "base_uri": "https://localhost:8080/"
        },
        "id": "9qzIlsqOZBXD",
        "outputId": "8a09b5e1-fe83-4060-92df-3987098df29f"
      },
      "execution_count": 7,
      "outputs": [
        {
          "output_type": "execute_result",
          "data": {
            "text/plain": [
              "Index(['order_details_id', 'order_id', 'pizza_id', 'quantity', 'order_date',\n",
              "       'order_time', 'unit_price', 'total_price', 'pizza_size',\n",
              "       'pizza_category', 'pizza_ingredients', 'pizza_name'],\n",
              "      dtype='object')"
            ]
          },
          "metadata": {},
          "execution_count": 7
        }
      ]
    },
    {
      "cell_type": "markdown",
      "source": [
        "# Analise dos Dados e normalização"
      ],
      "metadata": {
        "id": "dnZ78gC_Vw17"
      }
    },
    {
      "cell_type": "markdown",
      "source": [
        "\n",
        "**função para mostrar se existe valores NULOS**"
      ],
      "metadata": {
        "id": "pS-Gp3UwW1SN"
      }
    },
    {
      "cell_type": "code",
      "source": [
        "def show_null(df): #função para mostrar os dados null\n",
        "  null_columns = (df.isnull().sum(axis=0)/len(df)).sort_values(ascending=False).index #somar todos os nulos do dataframe no eixo 0 de forma crescente\n",
        " \n",
        "  null_data = pd.concat([df.isnull().sum(axis=0), #todos os valores nulos das colunas\n",
        "                         (df.isnull().sum(axis=0)/len(df)).sort_values(ascending=False), #pegar as porcentagens nulas\n",
        "                         df.loc[:, df.columns.isin(list(null_columns))].dtypes], axis=1) #pegar os tipos\n",
        "                         \n",
        "  null_data = null_data.rename(columns={0: '#', 1: '% null', 2: 'type'}).sort_values(ascending=False, by='% null') #Dando nomes a coluna com rename\n",
        "\n",
        "  return null_data"
      ],
      "metadata": {
        "id": "tzneIWC4V2g8"
      },
      "execution_count": 8,
      "outputs": []
    },
    {
      "cell_type": "markdown",
      "source": [
        "**chamada da função**"
      ],
      "metadata": {
        "id": "iH4-LMQYXHX0"
      }
    },
    {
      "cell_type": "code",
      "source": [
        "show_null(df)  #chamada da função (nenhum valor nulo)"
      ],
      "metadata": {
        "colab": {
          "base_uri": "https://localhost:8080/",
          "height": 425
        },
        "id": "zL8PzwgzXKU7",
        "outputId": "d965f694-bdb2-4be4-b7e9-7fff0c8382d6"
      },
      "execution_count": 9,
      "outputs": [
        {
          "output_type": "execute_result",
          "data": {
            "text/plain": [
              "                   #  % null            type\n",
              "order_details_id   0     0.0           int64\n",
              "order_id           0     0.0           int64\n",
              "pizza_id           0     0.0          object\n",
              "quantity           0     0.0           int64\n",
              "order_date         0     0.0  datetime64[ns]\n",
              "order_time         0     0.0          object\n",
              "unit_price         0     0.0         float64\n",
              "total_price        0     0.0         float64\n",
              "pizza_size         0     0.0          object\n",
              "pizza_category     0     0.0          object\n",
              "pizza_ingredients  0     0.0          object\n",
              "pizza_name         0     0.0          object"
            ],
            "text/html": [
              "\n",
              "  <div id=\"df-ff14c9af-bcd1-4ec4-9b01-3e24b849d4f1\">\n",
              "    <div class=\"colab-df-container\">\n",
              "      <div>\n",
              "<style scoped>\n",
              "    .dataframe tbody tr th:only-of-type {\n",
              "        vertical-align: middle;\n",
              "    }\n",
              "\n",
              "    .dataframe tbody tr th {\n",
              "        vertical-align: top;\n",
              "    }\n",
              "\n",
              "    .dataframe thead th {\n",
              "        text-align: right;\n",
              "    }\n",
              "</style>\n",
              "<table border=\"1\" class=\"dataframe\">\n",
              "  <thead>\n",
              "    <tr style=\"text-align: right;\">\n",
              "      <th></th>\n",
              "      <th>#</th>\n",
              "      <th>% null</th>\n",
              "      <th>type</th>\n",
              "    </tr>\n",
              "  </thead>\n",
              "  <tbody>\n",
              "    <tr>\n",
              "      <th>order_details_id</th>\n",
              "      <td>0</td>\n",
              "      <td>0.0</td>\n",
              "      <td>int64</td>\n",
              "    </tr>\n",
              "    <tr>\n",
              "      <th>order_id</th>\n",
              "      <td>0</td>\n",
              "      <td>0.0</td>\n",
              "      <td>int64</td>\n",
              "    </tr>\n",
              "    <tr>\n",
              "      <th>pizza_id</th>\n",
              "      <td>0</td>\n",
              "      <td>0.0</td>\n",
              "      <td>object</td>\n",
              "    </tr>\n",
              "    <tr>\n",
              "      <th>quantity</th>\n",
              "      <td>0</td>\n",
              "      <td>0.0</td>\n",
              "      <td>int64</td>\n",
              "    </tr>\n",
              "    <tr>\n",
              "      <th>order_date</th>\n",
              "      <td>0</td>\n",
              "      <td>0.0</td>\n",
              "      <td>datetime64[ns]</td>\n",
              "    </tr>\n",
              "    <tr>\n",
              "      <th>order_time</th>\n",
              "      <td>0</td>\n",
              "      <td>0.0</td>\n",
              "      <td>object</td>\n",
              "    </tr>\n",
              "    <tr>\n",
              "      <th>unit_price</th>\n",
              "      <td>0</td>\n",
              "      <td>0.0</td>\n",
              "      <td>float64</td>\n",
              "    </tr>\n",
              "    <tr>\n",
              "      <th>total_price</th>\n",
              "      <td>0</td>\n",
              "      <td>0.0</td>\n",
              "      <td>float64</td>\n",
              "    </tr>\n",
              "    <tr>\n",
              "      <th>pizza_size</th>\n",
              "      <td>0</td>\n",
              "      <td>0.0</td>\n",
              "      <td>object</td>\n",
              "    </tr>\n",
              "    <tr>\n",
              "      <th>pizza_category</th>\n",
              "      <td>0</td>\n",
              "      <td>0.0</td>\n",
              "      <td>object</td>\n",
              "    </tr>\n",
              "    <tr>\n",
              "      <th>pizza_ingredients</th>\n",
              "      <td>0</td>\n",
              "      <td>0.0</td>\n",
              "      <td>object</td>\n",
              "    </tr>\n",
              "    <tr>\n",
              "      <th>pizza_name</th>\n",
              "      <td>0</td>\n",
              "      <td>0.0</td>\n",
              "      <td>object</td>\n",
              "    </tr>\n",
              "  </tbody>\n",
              "</table>\n",
              "</div>\n",
              "      <button class=\"colab-df-convert\" onclick=\"convertToInteractive('df-ff14c9af-bcd1-4ec4-9b01-3e24b849d4f1')\"\n",
              "              title=\"Convert this dataframe to an interactive table.\"\n",
              "              style=\"display:none;\">\n",
              "        \n",
              "  <svg xmlns=\"http://www.w3.org/2000/svg\" height=\"24px\"viewBox=\"0 0 24 24\"\n",
              "       width=\"24px\">\n",
              "    <path d=\"M0 0h24v24H0V0z\" fill=\"none\"/>\n",
              "    <path d=\"M18.56 5.44l.94 2.06.94-2.06 2.06-.94-2.06-.94-.94-2.06-.94 2.06-2.06.94zm-11 1L8.5 8.5l.94-2.06 2.06-.94-2.06-.94L8.5 2.5l-.94 2.06-2.06.94zm10 10l.94 2.06.94-2.06 2.06-.94-2.06-.94-.94-2.06-.94 2.06-2.06.94z\"/><path d=\"M17.41 7.96l-1.37-1.37c-.4-.4-.92-.59-1.43-.59-.52 0-1.04.2-1.43.59L10.3 9.45l-7.72 7.72c-.78.78-.78 2.05 0 2.83L4 21.41c.39.39.9.59 1.41.59.51 0 1.02-.2 1.41-.59l7.78-7.78 2.81-2.81c.8-.78.8-2.07 0-2.86zM5.41 20L4 18.59l7.72-7.72 1.47 1.35L5.41 20z\"/>\n",
              "  </svg>\n",
              "      </button>\n",
              "      \n",
              "  <style>\n",
              "    .colab-df-container {\n",
              "      display:flex;\n",
              "      flex-wrap:wrap;\n",
              "      gap: 12px;\n",
              "    }\n",
              "\n",
              "    .colab-df-convert {\n",
              "      background-color: #E8F0FE;\n",
              "      border: none;\n",
              "      border-radius: 50%;\n",
              "      cursor: pointer;\n",
              "      display: none;\n",
              "      fill: #1967D2;\n",
              "      height: 32px;\n",
              "      padding: 0 0 0 0;\n",
              "      width: 32px;\n",
              "    }\n",
              "\n",
              "    .colab-df-convert:hover {\n",
              "      background-color: #E2EBFA;\n",
              "      box-shadow: 0px 1px 2px rgba(60, 64, 67, 0.3), 0px 1px 3px 1px rgba(60, 64, 67, 0.15);\n",
              "      fill: #174EA6;\n",
              "    }\n",
              "\n",
              "    [theme=dark] .colab-df-convert {\n",
              "      background-color: #3B4455;\n",
              "      fill: #D2E3FC;\n",
              "    }\n",
              "\n",
              "    [theme=dark] .colab-df-convert:hover {\n",
              "      background-color: #434B5C;\n",
              "      box-shadow: 0px 1px 3px 1px rgba(0, 0, 0, 0.15);\n",
              "      filter: drop-shadow(0px 1px 2px rgba(0, 0, 0, 0.3));\n",
              "      fill: #FFFFFF;\n",
              "    }\n",
              "  </style>\n",
              "\n",
              "      <script>\n",
              "        const buttonEl =\n",
              "          document.querySelector('#df-ff14c9af-bcd1-4ec4-9b01-3e24b849d4f1 button.colab-df-convert');\n",
              "        buttonEl.style.display =\n",
              "          google.colab.kernel.accessAllowed ? 'block' : 'none';\n",
              "\n",
              "        async function convertToInteractive(key) {\n",
              "          const element = document.querySelector('#df-ff14c9af-bcd1-4ec4-9b01-3e24b849d4f1');\n",
              "          const dataTable =\n",
              "            await google.colab.kernel.invokeFunction('convertToInteractive',\n",
              "                                                     [key], {});\n",
              "          if (!dataTable) return;\n",
              "\n",
              "          const docLinkHtml = 'Like what you see? Visit the ' +\n",
              "            '<a target=\"_blank\" href=https://colab.research.google.com/notebooks/data_table.ipynb>data table notebook</a>'\n",
              "            + ' to learn more about interactive tables.';\n",
              "          element.innerHTML = '';\n",
              "          dataTable['output_type'] = 'display_data';\n",
              "          await google.colab.output.renderOutput(dataTable, element);\n",
              "          const docLink = document.createElement('div');\n",
              "          docLink.innerHTML = docLinkHtml;\n",
              "          element.appendChild(docLink);\n",
              "        }\n",
              "      </script>\n",
              "    </div>\n",
              "  </div>\n",
              "  "
            ]
          },
          "metadata": {},
          "execution_count": 9
        }
      ]
    },
    {
      "cell_type": "markdown",
      "source": [
        "**Função para mostrar uma variavel numerica**"
      ],
      "metadata": {
        "id": "DckLlvpHYp8C"
      }
    },
    {
      "cell_type": "code",
      "source": [
        "def plot_num(df, feature):#plotando uma variavel numerica\n",
        "  fig = plt.figure(figsize=(12,8))\n",
        "  gs = GridSpec(1,2)\n",
        "  sns.boxplot(y=feature, data=df, color='firebrick', ax=fig.add_subplot(gs[0,0]))\n",
        "  plt.ylabel(feature)\n",
        "  sns.stripplot(y=df[feature], color='darkcyan', ax=fig.add_subplot(gs[0,1]))\n",
        "  plt.ylabel(None)\n",
        "  plt.show()\n"
      ],
      "metadata": {
        "id": "E4Lt0wiGYiat"
      },
      "execution_count": 10,
      "outputs": []
    },
    {
      "cell_type": "code",
      "source": [
        "plot_num(df, 'total_price') #chamada da função plot_num mostrando a var numerica"
      ],
      "metadata": {
        "id": "bN6YJky9Y4Ub",
        "colab": {
          "base_uri": "https://localhost:8080/",
          "height": 657
        },
        "outputId": "a32fd7ec-a74f-4150-d9fe-bf1160be6c94"
      },
      "execution_count": 11,
      "outputs": [
        {
          "output_type": "display_data",
          "data": {
            "text/plain": [
              "<Figure size 1200x800 with 2 Axes>"
            ],
            "image/png": "[encoded data removed]"
          },
          "metadata": {}
        }
      ]
    },
    {
      "cell_type": "markdown",
      "source": [
        "**Função para mostrar uma variavel categorica**"
      ],
      "metadata": {
        "id": "_PpTA4EbZrKa"
      }
    },
    {
      "cell_type": "code",
      "source": [
        "def plot_cat(df, feature):#plotando uma variavel categorica\n",
        "  fig = plt.figure(figsize=(12,8))\n",
        "  ax = sns.countplot(data=df, x=feature)\n",
        "\n",
        "  plt.xlabel(feature)\n",
        "  plt.ylabel('Variavel categorica')\n",
        "  plt.show()"
      ],
      "metadata": {
        "id": "p7847tutZoby"
      },
      "execution_count": 12,
      "outputs": []
    },
    {
      "cell_type": "code",
      "source": [
        "plot_cat(df, 'pizza_size')  #chamada da função plot_cat para mostrar a variavel categorica pizza size"
      ],
      "metadata": {
        "id": "uoS_wKk6Z5mq",
        "colab": {
          "base_uri": "https://localhost:8080/",
          "height": 696
        },
        "outputId": "47227f17-3f34-4e28-acbc-ec0dd13455c3"
      },
      "execution_count": 13,
      "outputs": [
        {
          "output_type": "display_data",
          "data": {
            "text/plain": [
              "<Figure size 1200x800 with 1 Axes>"
            ],
            "image/png": "[encoded data removed]"
          },
          "metadata": {}
        }
      ]
    },
    {
      "cell_type": "markdown",
      "source": [
        "**Variaveis que serão padronizados:** \n",
        "\n",
        "> nome da pizza\n",
        "\n",
        "> categoria\n",
        "\n",
        "> ingredientes\n",
        "\n",
        ">  price\n",
        "\n",
        "> tamanho\n",
        "\n",
        "\n",
        "\n",
        "\n",
        "\n",
        "\n",
        "\n",
        "\n",
        "\n"
      ],
      "metadata": {
        "id": "0I1YjaB-6_WT"
      }
    },
    {
      "cell_type": "code",
      "source": [
        "df.head()"
      ],
      "metadata": {
        "colab": {
          "base_uri": "https://localhost:8080/",
          "height": 461
        },
        "id": "NaMfoOON8Vw2",
        "outputId": "a221ca2c-8455-40a2-ee9e-a26d31c86a15"
      },
      "execution_count": 14,
      "outputs": [
        {
          "output_type": "execute_result",
          "data": {
            "text/plain": [
              "   order_details_id  order_id       pizza_id  quantity order_date order_time  \\\n",
              "0                 1         1     hawaiian_m         1 2015-01-01   11:38:36   \n",
              "1                 2         2  classic_dlx_m         1 2015-01-01   11:57:40   \n",
              "2                 3         2  five_cheese_l         1 2015-01-01   11:57:40   \n",
              "3                 4         2    ital_supr_l         1 2015-01-01   11:57:40   \n",
              "4                 5         2     mexicana_m         1 2015-01-01   11:57:40   \n",
              "\n",
              "   unit_price  total_price pizza_size pizza_category  \\\n",
              "0       13.25        13.25          M        Classic   \n",
              "1       16.00        16.00          M        Classic   \n",
              "2       18.50        18.50          L         Veggie   \n",
              "3       20.75        20.75          L        Supreme   \n",
              "4       16.00        16.00          M         Veggie   \n",
              "\n",
              "                                   pizza_ingredients  \\\n",
              "0           Sliced Ham, Pineapple, Mozzarella Cheese   \n",
              "1  Pepperoni, Mushrooms, Red Onions, Red Peppers,...   \n",
              "2  Mozzarella Cheese, Provolone Cheese, Smoked Go...   \n",
              "3  Calabrese Salami, Capocollo, Tomatoes, Red Oni...   \n",
              "4  Tomatoes, Red Peppers, Jalapeno Peppers, Red O...   \n",
              "\n",
              "                  pizza_name  \n",
              "0         The Hawaiian Pizza  \n",
              "1   The Classic Deluxe Pizza  \n",
              "2      The Five Cheese Pizza  \n",
              "3  The Italian Supreme Pizza  \n",
              "4         The Mexicana Pizza  "
            ],
            "text/html": [
              "\n",
              "  <div id=\"df-cccdda1f-4ec1-4e40-80eb-f3ed242fe503\">\n",
              "    <div class=\"colab-df-container\">\n",
              "      <div>\n",
              "<style scoped>\n",
              "    .dataframe tbody tr th:only-of-type {\n",
              "        vertical-align: middle;\n",
              "    }\n",
              "\n",
              "    .dataframe tbody tr th {\n",
              "        vertical-align: top;\n",
              "    }\n",
              "\n",
              "    .dataframe thead th {\n",
              "        text-align: right;\n",
              "    }\n",
              "</style>\n",
              "<table border=\"1\" class=\"dataframe\">\n",
              "  <thead>\n",
              "    <tr style=\"text-align: right;\">\n",
              "      <th></th>\n",
              "      <th>order_details_id</th>\n",
              "      <th>order_id</th>\n",
              "      <th>pizza_id</th>\n",
              "      <th>quantity</th>\n",
              "      <th>order_date</th>\n",
              "      <th>order_time</th>\n",
              "      <th>unit_price</th>\n",
              "      <th>total_price</th>\n",
              "      <th>pizza_size</th>\n",
              "      <th>pizza_category</th>\n",
              "      <th>pizza_ingredients</th>\n",
              "      <th>pizza_name</th>\n",
              "    </tr>\n",
              "  </thead>\n",
              "  <tbody>\n",
              "    <tr>\n",
              "      <th>0</th>\n",
              "      <td>1</td>\n",
              "      <td>1</td>\n",
              "      <td>hawaiian_m</td>\n",
              "      <td>1</td>\n",
              "      <td>2015-01-01</td>\n",
              "      <td>11:38:36</td>\n",
              "      <td>13.25</td>\n",
              "      <td>13.25</td>\n",
              "      <td>M</td>\n",
              "      <td>Classic</td>\n",
              "      <td>Sliced Ham, Pineapple, Mozzarella Cheese</td>\n",
              "      <td>The Hawaiian Pizza</td>\n",
              "    </tr>\n",
              "    <tr>\n",
              "      <th>1</th>\n",
              "      <td>2</td>\n",
              "      <td>2</td>\n",
              "      <td>classic_dlx_m</td>\n",
              "      <td>1</td>\n",
              "      <td>2015-01-01</td>\n",
              "      <td>11:57:40</td>\n",
              "      <td>16.00</td>\n",
              "      <td>16.00</td>\n",
              "      <td>M</td>\n",
              "      <td>Classic</td>\n",
              "      <td>Pepperoni, Mushrooms, Red Onions, Red Peppers,...</td>\n",
              "      <td>The Classic Deluxe Pizza</td>\n",
              "    </tr>\n",
              "    <tr>\n",
              "      <th>2</th>\n",
              "      <td>3</td>\n",
              "      <td>2</td>\n",
              "      <td>five_cheese_l</td>\n",
              "      <td>1</td>\n",
              "      <td>2015-01-01</td>\n",
              "      <td>11:57:40</td>\n",
              "      <td>18.50</td>\n",
              "      <td>18.50</td>\n",
              "      <td>L</td>\n",
              "      <td>Veggie</td>\n",
              "      <td>Mozzarella Cheese, Provolone Cheese, Smoked Go...</td>\n",
              "      <td>The Five Cheese Pizza</td>\n",
              "    </tr>\n",
              "    <tr>\n",
              "      <th>3</th>\n",
              "      <td>4</td>\n",
              "      <td>2</td>\n",
              "      <td>ital_supr_l</td>\n",
              "      <td>1</td>\n",
              "      <td>2015-01-01</td>\n",
              "      <td>11:57:40</td>\n",
              "      <td>20.75</td>\n",
              "      <td>20.75</td>\n",
              "      <td>L</td>\n",
              "      <td>Supreme</td>\n",
              "      <td>Calabrese Salami, Capocollo, Tomatoes, Red Oni...</td>\n",
              "      <td>The Italian Supreme Pizza</td>\n",
              "    </tr>\n",
              "    <tr>\n",
              "      <th>4</th>\n",
              "      <td>5</td>\n",
              "      <td>2</td>\n",
              "      <td>mexicana_m</td>\n",
              "      <td>1</td>\n",
              "      <td>2015-01-01</td>\n",
              "      <td>11:57:40</td>\n",
              "      <td>16.00</td>\n",
              "      <td>16.00</td>\n",
              "      <td>M</td>\n",
              "      <td>Veggie</td>\n",
              "      <td>Tomatoes, Red Peppers, Jalapeno Peppers, Red O...</td>\n",
              "      <td>The Mexicana Pizza</td>\n",
              "    </tr>\n",
              "  </tbody>\n",
              "</table>\n",
              "</div>\n",
              "      <button class=\"colab-df-convert\" onclick=\"convertToInteractive('df-cccdda1f-4ec1-4e40-80eb-f3ed242fe503')\"\n",
              "              title=\"Convert this dataframe to an interactive table.\"\n",
              "              style=\"display:none;\">\n",
              "        \n",
              "  <svg xmlns=\"http://www.w3.org/2000/svg\" height=\"24px\"viewBox=\"0 0 24 24\"\n",
              "       width=\"24px\">\n",
              "    <path d=\"M0 0h24v24H0V0z\" fill=\"none\"/>\n",
              "    <path d=\"M18.56 5.44l.94 2.06.94-2.06 2.06-.94-2.06-.94-.94-2.06-.94 2.06-2.06.94zm-11 1L8.5 8.5l.94-2.06 2.06-.94-2.06-.94L8.5 2.5l-.94 2.06-2.06.94zm10 10l.94 2.06.94-2.06 2.06-.94-2.06-.94-.94-2.06-.94 2.06-2.06.94z\"/><path d=\"M17.41 7.96l-1.37-1.37c-.4-.4-.92-.59-1.43-.59-.52 0-1.04.2-1.43.59L10.3 9.45l-7.72 7.72c-.78.78-.78 2.05 0 2.83L4 21.41c.39.39.9.59 1.41.59.51 0 1.02-.2 1.41-.59l7.78-7.78 2.81-2.81c.8-.78.8-2.07 0-2.86zM5.41 20L4 18.59l7.72-7.72 1.47 1.35L5.41 20z\"/>\n",
              "  </svg>\n",
              "      </button>\n",
              "      \n",
              "  <style>\n",
              "    .colab-df-container {\n",
              "      display:flex;\n",
              "      flex-wrap:wrap;\n",
              "      gap: 12px;\n",
              "    }\n",
              "\n",
              "    .colab-df-convert {\n",
              "      background-color: #E8F0FE;\n",
              "      border: none;\n",
              "      border-radius: 50%;\n",
              "      cursor: pointer;\n",
              "      display: none;\n",
              "      fill: #1967D2;\n",
              "      height: 32px;\n",
              "      padding: 0 0 0 0;\n",
              "      width: 32px;\n",
              "    }\n",
              "\n",
              "    .colab-df-convert:hover {\n",
              "      background-color: #E2EBFA;\n",
              "      box-shadow: 0px 1px 2px rgba(60, 64, 67, 0.3), 0px 1px 3px 1px rgba(60, 64, 67, 0.15);\n",
              "      fill: #174EA6;\n",
              "    }\n",
              "\n",
              "    [theme=dark] .colab-df-convert {\n",
              "      background-color: #3B4455;\n",
              "      fill: #D2E3FC;\n",
              "    }\n",
              "\n",
              "    [theme=dark] .colab-df-convert:hover {\n",
              "      background-color: #434B5C;\n",
              "      box-shadow: 0px 1px 3px 1px rgba(0, 0, 0, 0.15);\n",
              "      filter: drop-shadow(0px 1px 2px rgba(0, 0, 0, 0.3));\n",
              "      fill: #FFFFFF;\n",
              "    }\n",
              "  </style>\n",
              "\n",
              "      <script>\n",
              "        const buttonEl =\n",
              "          document.querySelector('#df-cccdda1f-4ec1-4e40-80eb-f3ed242fe503 button.colab-df-convert');\n",
              "        buttonEl.style.display =\n",
              "          google.colab.kernel.accessAllowed ? 'block' : 'none';\n",
              "\n",
              "        async function convertToInteractive(key) {\n",
              "          const element = document.querySelector('#df-cccdda1f-4ec1-4e40-80eb-f3ed242fe503');\n",
              "          const dataTable =\n",
              "            await google.colab.kernel.invokeFunction('convertToInteractive',\n",
              "                                                     [key], {});\n",
              "          if (!dataTable) return;\n",
              "\n",
              "          const docLinkHtml = 'Like what you see? Visit the ' +\n",
              "            '<a target=\"_blank\" href=https://colab.research.google.com/notebooks/data_table.ipynb>data table notebook</a>'\n",
              "            + ' to learn more about interactive tables.';\n",
              "          element.innerHTML = '';\n",
              "          dataTable['output_type'] = 'display_data';\n",
              "          await google.colab.output.renderOutput(dataTable, element);\n",
              "          const docLink = document.createElement('div');\n",
              "          docLink.innerHTML = docLinkHtml;\n",
              "          element.appendChild(docLink);\n",
              "        }\n",
              "      </script>\n",
              "    </div>\n",
              "  </div>\n",
              "  "
            ]
          },
          "metadata": {},
          "execution_count": 14
        }
      ]
    },
    {
      "cell_type": "markdown",
      "source": [
        "# Decodificando as variaveis categoricas"
      ],
      "metadata": {
        "id": "8cmMyiTFWZiY"
      }
    },
    {
      "cell_type": "markdown",
      "source": [
        "**Variavel pizza_size**"
      ],
      "metadata": {
        "id": "Sq21nKWQkGem"
      }
    },
    {
      "cell_type": "code",
      "source": [
        "#decodificando a variavel pizza_size\n",
        "df.pizza_size = df.pizza_size.apply(lambda x: 0 if x=='M' \n",
        "                       else(1 if x=='L' \n",
        "                            else(2 if x=='S' \n",
        "                                 else(3 if x=='XL' \n",
        "                                      else(4 if x=='XXL' else None)))))"
      ],
      "metadata": {
        "id": "wTEXMcAiiYTa"
      },
      "execution_count": 15,
      "outputs": []
    },
    {
      "cell_type": "code",
      "source": [
        "plot_cat(df, 'pizza_size')"
      ],
      "metadata": {
        "id": "m9IriHnLj1qU",
        "colab": {
          "base_uri": "https://localhost:8080/",
          "height": 696
        },
        "outputId": "3935928a-2a1a-46e2-8ce1-95e4e29b4adc"
      },
      "execution_count": 16,
      "outputs": [
        {
          "output_type": "display_data",
          "data": {
            "text/plain": [
              "<Figure size 1200x800 with 1 Axes>"
            ],
            "image/png": "[encoded data removed]"
          },
          "metadata": {}
        }
      ]
    },
    {
      "cell_type": "markdown",
      "source": [
        "**Variavel pizza_name**"
      ],
      "metadata": {
        "id": "LUzauUxwklzf"
      }
    },
    {
      "cell_type": "code",
      "source": [
        "le = LabelEncoder()"
      ],
      "metadata": {
        "id": "tQtwGVASo89w"
      },
      "execution_count": 17,
      "outputs": []
    },
    {
      "cell_type": "code",
      "source": [
        "#decodificando a variavel pizza_name\n",
        "df.pizza_name = le.fit_transform(df.pizza_name)"
      ],
      "metadata": {
        "id": "jMRhsRCsWyPD"
      },
      "execution_count": 18,
      "outputs": []
    },
    {
      "cell_type": "code",
      "source": [
        "plot_cat(df, 'pizza_name')"
      ],
      "metadata": {
        "id": "40ZC_PkCmSWa",
        "colab": {
          "base_uri": "https://localhost:8080/",
          "height": 696
        },
        "outputId": "0dd52179-5db3-459e-9e25-b21a5ef679cf"
      },
      "execution_count": 19,
      "outputs": [
        {
          "output_type": "display_data",
          "data": {
            "text/plain": [
              "<Figure size 1200x800 with 1 Axes>"
            ],
            "image/png": "[encoded data removed]"
          },
          "metadata": {}
        }
      ]
    },
    {
      "cell_type": "markdown",
      "source": [
        "**Variavel pizza ingredients**"
      ],
      "metadata": {
        "id": "N-8KUn1crw-B"
      }
    },
    {
      "cell_type": "code",
      "source": [
        " #decodificando a variavel pizza_ingredients\n",
        "df.pizza_ingredients = le.fit_transform(df.pizza_ingredients)"
      ],
      "metadata": {
        "id": "pRH4IDCTciOy"
      },
      "execution_count": 20,
      "outputs": []
    },
    {
      "cell_type": "code",
      "source": [
        "plot_cat(df, 'pizza_ingredients')"
      ],
      "metadata": {
        "id": "9mAiZU3VraMA",
        "colab": {
          "base_uri": "https://localhost:8080/",
          "height": 696
        },
        "outputId": "0c5196cf-f5c9-4bae-850b-46e7a23d7cab"
      },
      "execution_count": 21,
      "outputs": [
        {
          "output_type": "display_data",
          "data": {
            "text/plain": [
              "<Figure size 1200x800 with 1 Axes>"
            ],
            "image/png": "[encoded data removed]"
          },
          "metadata": {}
        }
      ]
    },
    {
      "cell_type": "markdown",
      "source": [
        "**Variavel Pizza categoria**"
      ],
      "metadata": {
        "id": "Gohh-D2VsARe"
      }
    },
    {
      "cell_type": "code",
      "source": [
        "#decodificando a variavel pizza_category\n",
        "df.pizza_category = le.fit_transform(df.pizza_category)"
      ],
      "metadata": {
        "id": "CGofFoTZfg7s"
      },
      "execution_count": 22,
      "outputs": []
    },
    {
      "cell_type": "code",
      "source": [
        "plot_cat(df, 'pizza_category')"
      ],
      "metadata": {
        "id": "rOwmCJkzsbc_",
        "colab": {
          "base_uri": "https://localhost:8080/",
          "height": 696
        },
        "outputId": "1aa7719f-5863-445c-d0dd-eb46a80eb7c6"
      },
      "execution_count": 23,
      "outputs": [
        {
          "output_type": "display_data",
          "data": {
            "text/plain": [
              "<Figure size 1200x800 with 1 Axes>"
            ],
            "image/png": "[encoded data removed]"
          },
          "metadata": {}
        }
      ]
    },
    {
      "cell_type": "markdown",
      "source": [
        "**Variavel pizza price**"
      ],
      "metadata": {
        "id": "HzoyQ3TVtBSH"
      }
    },
    {
      "cell_type": "code",
      "source": [
        "plot_num(df, 'total_price')"
      ],
      "metadata": {
        "id": "XtPfiNT-g4ED",
        "colab": {
          "base_uri": "https://localhost:8080/",
          "height": 657
        },
        "outputId": "4831fb91-b839-4b18-c187-d69b47ebaed8"
      },
      "execution_count": 24,
      "outputs": [
        {
          "output_type": "display_data",
          "data": {
            "text/plain": [
              "<Figure size 1200x800 with 2 Axes>"
            ],
            "image/png": "[encoded data removed]"
          },
          "metadata": {}
        }
      ]
    },
    {
      "cell_type": "markdown",
      "source": [
        "**Variavel id pizza**"
      ],
      "metadata": {
        "id": "jnLMVJPR2xjt"
      }
    },
    {
      "cell_type": "code",
      "source": [
        "df.pizza_id = le.fit_transform(df.pizza_id)"
      ],
      "metadata": {
        "id": "MCuFA24i2ax3"
      },
      "execution_count": 25,
      "outputs": []
    },
    {
      "cell_type": "code",
      "source": [
        "df.head()"
      ],
      "metadata": {
        "id": "5yk2hj9qu3gP",
        "colab": {
          "base_uri": "https://localhost:8080/",
          "height": 270
        },
        "outputId": "de89bbee-ad67-4f43-8c48-0874b1320b5c"
      },
      "execution_count": 26,
      "outputs": [
        {
          "output_type": "execute_result",
          "data": {
            "text/plain": [
              "   order_details_id  order_id  pizza_id  quantity order_date order_time  \\\n",
              "0                 1         1        27         1 2015-01-01   11:38:36   \n",
              "1                 2         2        18         1 2015-01-01   11:57:40   \n",
              "2                 3         2        20         1 2015-01-01   11:57:40   \n",
              "3                 4         2        32         1 2015-01-01   11:57:40   \n",
              "4                 5         2        42         1 2015-01-01   11:57:40   \n",
              "\n",
              "   unit_price  total_price  pizza_size  pizza_category  pizza_ingredients  \\\n",
              "0       13.25        13.25           0               1                 22   \n",
              "1       16.00        16.00           0               1                 19   \n",
              "2       18.50        18.50           1               3                 16   \n",
              "3       20.75        20.75           1               2                  3   \n",
              "4       16.00        16.00           0               3                 30   \n",
              "\n",
              "   pizza_name  \n",
              "0          12  \n",
              "1           7  \n",
              "2           8  \n",
              "3          14  \n",
              "4          17  "
            ],
            "text/html": [
              "\n",
              "  <div id=\"df-d4e186db-1f90-4fb3-8736-b059ca4637ae\">\n",
              "    <div class=\"colab-df-container\">\n",
              "      <div>\n",
              "<style scoped>\n",
              "    .dataframe tbody tr th:only-of-type {\n",
              "        vertical-align: middle;\n",
              "    }\n",
              "\n",
              "    .dataframe tbody tr th {\n",
              "        vertical-align: top;\n",
              "    }\n",
              "\n",
              "    .dataframe thead th {\n",
              "        text-align: right;\n",
              "    }\n",
              "</style>\n",
              "<table border=\"1\" class=\"dataframe\">\n",
              "  <thead>\n",
              "    <tr style=\"text-align: right;\">\n",
              "      <th></th>\n",
              "      <th>order_details_id</th>\n",
              "      <th>order_id</th>\n",
              "      <th>pizza_id</th>\n",
              "      <th>quantity</th>\n",
              "      <th>order_date</th>\n",
              "      <th>order_time</th>\n",
              "      <th>unit_price</th>\n",
              "      <th>total_price</th>\n",
              "      <th>pizza_size</th>\n",
              "      <th>pizza_category</th>\n",
              "      <th>pizza_ingredients</th>\n",
              "      <th>pizza_name</th>\n",
              "    </tr>\n",
              "  </thead>\n",
              "  <tbody>\n",
              "    <tr>\n",
              "      <th>0</th>\n",
              "      <td>1</td>\n",
              "      <td>1</td>\n",
              "      <td>27</td>\n",
              "      <td>1</td>\n",
              "      <td>2015-01-01</td>\n",
              "      <td>11:38:36</td>\n",
              "      <td>13.25</td>\n",
              "      <td>13.25</td>\n",
              "      <td>0</td>\n",
              "      <td>1</td>\n",
              "      <td>22</td>\n",
              "      <td>12</td>\n",
              "    </tr>\n",
              "    <tr>\n",
              "      <th>1</th>\n",
              "      <td>2</td>\n",
              "      <td>2</td>\n",
              "      <td>18</td>\n",
              "      <td>1</td>\n",
              "      <td>2015-01-01</td>\n",
              "      <td>11:57:40</td>\n",
              "      <td>16.00</td>\n",
              "      <td>16.00</td>\n",
              "      <td>0</td>\n",
              "      <td>1</td>\n",
              "      <td>19</td>\n",
              "      <td>7</td>\n",
              "    </tr>\n",
              "    <tr>\n",
              "      <th>2</th>\n",
              "      <td>3</td>\n",
              "      <td>2</td>\n",
              "      <td>20</td>\n",
              "      <td>1</td>\n",
              "      <td>2015-01-01</td>\n",
              "      <td>11:57:40</td>\n",
              "      <td>18.50</td>\n",
              "      <td>18.50</td>\n",
              "      <td>1</td>\n",
              "      <td>3</td>\n",
              "      <td>16</td>\n",
              "      <td>8</td>\n",
              "    </tr>\n",
              "    <tr>\n",
              "      <th>3</th>\n",
              "      <td>4</td>\n",
              "      <td>2</td>\n",
              "      <td>32</td>\n",
              "      <td>1</td>\n",
              "      <td>2015-01-01</td>\n",
              "      <td>11:57:40</td>\n",
              "      <td>20.75</td>\n",
              "      <td>20.75</td>\n",
              "      <td>1</td>\n",
              "      <td>2</td>\n",
              "      <td>3</td>\n",
              "      <td>14</td>\n",
              "    </tr>\n",
              "    <tr>\n",
              "      <th>4</th>\n",
              "      <td>5</td>\n",
              "      <td>2</td>\n",
              "      <td>42</td>\n",
              "      <td>1</td>\n",
              "      <td>2015-01-01</td>\n",
              "      <td>11:57:40</td>\n",
              "      <td>16.00</td>\n",
              "      <td>16.00</td>\n",
              "      <td>0</td>\n",
              "      <td>3</td>\n",
              "      <td>30</td>\n",
              "      <td>17</td>\n",
              "    </tr>\n",
              "  </tbody>\n",
              "</table>\n",
              "</div>\n",
              "      <button class=\"colab-df-convert\" onclick=\"convertToInteractive('df-d4e186db-1f90-4fb3-8736-b059ca4637ae')\"\n",
              "              title=\"Convert this dataframe to an interactive table.\"\n",
              "              style=\"display:none;\">\n",
              "        \n",
              "  <svg xmlns=\"http://www.w3.org/2000/svg\" height=\"24px\"viewBox=\"0 0 24 24\"\n",
              "       width=\"24px\">\n",
              "    <path d=\"M0 0h24v24H0V0z\" fill=\"none\"/>\n",
              "    <path d=\"M18.56 5.44l.94 2.06.94-2.06 2.06-.94-2.06-.94-.94-2.06-.94 2.06-2.06.94zm-11 1L8.5 8.5l.94-2.06 2.06-.94-2.06-.94L8.5 2.5l-.94 2.06-2.06.94zm10 10l.94 2.06.94-2.06 2.06-.94-2.06-.94-.94-2.06-.94 2.06-2.06.94z\"/><path d=\"M17.41 7.96l-1.37-1.37c-.4-.4-.92-.59-1.43-.59-.52 0-1.04.2-1.43.59L10.3 9.45l-7.72 7.72c-.78.78-.78 2.05 0 2.83L4 21.41c.39.39.9.59 1.41.59.51 0 1.02-.2 1.41-.59l7.78-7.78 2.81-2.81c.8-.78.8-2.07 0-2.86zM5.41 20L4 18.59l7.72-7.72 1.47 1.35L5.41 20z\"/>\n",
              "  </svg>\n",
              "      </button>\n",
              "      \n",
              "  <style>\n",
              "    .colab-df-container {\n",
              "      display:flex;\n",
              "      flex-wrap:wrap;\n",
              "      gap: 12px;\n",
              "    }\n",
              "\n",
              "    .colab-df-convert {\n",
              "      background-color: #E8F0FE;\n",
              "      border: none;\n",
              "      border-radius: 50%;\n",
              "      cursor: pointer;\n",
              "      display: none;\n",
              "      fill: #1967D2;\n",
              "      height: 32px;\n",
              "      padding: 0 0 0 0;\n",
              "      width: 32px;\n",
              "    }\n",
              "\n",
              "    .colab-df-convert:hover {\n",
              "      background-color: #E2EBFA;\n",
              "      box-shadow: 0px 1px 2px rgba(60, 64, 67, 0.3), 0px 1px 3px 1px rgba(60, 64, 67, 0.15);\n",
              "      fill: #174EA6;\n",
              "    }\n",
              "\n",
              "    [theme=dark] .colab-df-convert {\n",
              "      background-color: #3B4455;\n",
              "      fill: #D2E3FC;\n",
              "    }\n",
              "\n",
              "    [theme=dark] .colab-df-convert:hover {\n",
              "      background-color: #434B5C;\n",
              "      box-shadow: 0px 1px 3px 1px rgba(0, 0, 0, 0.15);\n",
              "      filter: drop-shadow(0px 1px 2px rgba(0, 0, 0, 0.3));\n",
              "      fill: #FFFFFF;\n",
              "    }\n",
              "  </style>\n",
              "\n",
              "      <script>\n",
              "        const buttonEl =\n",
              "          document.querySelector('#df-d4e186db-1f90-4fb3-8736-b059ca4637ae button.colab-df-convert');\n",
              "        buttonEl.style.display =\n",
              "          google.colab.kernel.accessAllowed ? 'block' : 'none';\n",
              "\n",
              "        async function convertToInteractive(key) {\n",
              "          const element = document.querySelector('#df-d4e186db-1f90-4fb3-8736-b059ca4637ae');\n",
              "          const dataTable =\n",
              "            await google.colab.kernel.invokeFunction('convertToInteractive',\n",
              "                                                     [key], {});\n",
              "          if (!dataTable) return;\n",
              "\n",
              "          const docLinkHtml = 'Like what you see? Visit the ' +\n",
              "            '<a target=\"_blank\" href=https://colab.research.google.com/notebooks/data_table.ipynb>data table notebook</a>'\n",
              "            + ' to learn more about interactive tables.';\n",
              "          element.innerHTML = '';\n",
              "          dataTable['output_type'] = 'display_data';\n",
              "          await google.colab.output.renderOutput(dataTable, element);\n",
              "          const docLink = document.createElement('div');\n",
              "          docLink.innerHTML = docLinkHtml;\n",
              "          element.appendChild(docLink);\n",
              "        }\n",
              "      </script>\n",
              "    </div>\n",
              "  </div>\n",
              "  "
            ]
          },
          "metadata": {},
          "execution_count": 26
        }
      ]
    },
    {
      "cell_type": "markdown",
      "source": [
        "**Dropando variaveis sem utilidade**"
      ],
      "metadata": {
        "id": "CqR7HALw6Bpk"
      }
    },
    {
      "cell_type": "code",
      "source": [
        "df.drop(columns=['order_details_id', 'order_date', 'order_time', 'unit_price'], inplace=True)"
      ],
      "metadata": {
        "id": "SvT6GShL0vLz"
      },
      "execution_count": 27,
      "outputs": []
    },
    {
      "cell_type": "markdown",
      "source": [
        "# Utilizando o MinMax Scaler"
      ],
      "metadata": {
        "id": "QwJzd0tI5NMD"
      }
    },
    {
      "cell_type": "code",
      "source": [
        "def scaler(df):\n",
        "  df = df.copy()\n",
        "  for column in df:\n",
        "    minimo = df[column].min()\n",
        "    maximo = df[column].max()\n",
        "    df[column] = (df[column] - minimo) /(maximo - minimo)\n",
        "    df_norm = df\n",
        "    return df_norm"
      ],
      "metadata": {
        "id": "PT9qfS6R4gCM"
      },
      "execution_count": 28,
      "outputs": []
    },
    {
      "cell_type": "markdown",
      "source": [
        "**DF normalizado**"
      ],
      "metadata": {
        "id": "tdlBFiwZ26ed"
      }
    },
    {
      "cell_type": "code",
      "source": [
        "scaler(df)"
      ],
      "metadata": {
        "colab": {
          "base_uri": "https://localhost:8080/",
          "height": 423
        },
        "id": "_ymj_ZkK3sBb",
        "outputId": "2326c4a6-159b-4d50-972e-c82c0332570d"
      },
      "execution_count": 29,
      "outputs": [
        {
          "output_type": "execute_result",
          "data": {
            "text/plain": [
              "       order_id  pizza_id  quantity  total_price  pizza_size  pizza_category  \\\n",
              "0      0.000000        27         1        13.25           0               1   \n",
              "1      0.000047        18         1        16.00           0               1   \n",
              "2      0.000047        20         1        18.50           1               3   \n",
              "3      0.000047        32         1        20.75           1               2   \n",
              "4      0.000047        42         1        16.00           0               3   \n",
              "...         ...       ...       ...          ...         ...             ...   \n",
              "48615  0.999906        12         1        16.75           0               0   \n",
              "48616  0.999906        21         1        17.95           1               3   \n",
              "48617  0.999906        46         1        12.00           2               1   \n",
              "48618  0.999953        41         1        20.25           1               3   \n",
              "48619  1.000000         2         1        12.75           2               0   \n",
              "\n",
              "       pizza_ingredients  pizza_name  \n",
              "0                     22          12  \n",
              "1                     19           7  \n",
              "2                     16           8  \n",
              "3                      3          14  \n",
              "4                     30          17  \n",
              "...                  ...         ...  \n",
              "48615                  8           5  \n",
              "48616                 21           9  \n",
              "48617                 29          18  \n",
              "48618                 30          17  \n",
              "48619                  1           0  \n",
              "\n",
              "[48620 rows x 8 columns]"
            ],
            "text/html": [
              "\n",
              "  <div id=\"df-018a52ad-a105-47ba-82cb-e41f46f6a50c\">\n",
              "    <div class=\"colab-df-container\">\n",
              "      <div>\n",
              "<style scoped>\n",
              "    .dataframe tbody tr th:only-of-type {\n",
              "        vertical-align: middle;\n",
              "    }\n",
              "\n",
              "    .dataframe tbody tr th {\n",
              "        vertical-align: top;\n",
              "    }\n",
              "\n",
              "    .dataframe thead th {\n",
              "        text-align: right;\n",
              "    }\n",
              "</style>\n",
              "<table border=\"1\" class=\"dataframe\">\n",
              "  <thead>\n",
              "    <tr style=\"text-align: right;\">\n",
              "      <th></th>\n",
              "      <th>order_id</th>\n",
              "      <th>pizza_id</th>\n",
              "      <th>quantity</th>\n",
              "      <th>total_price</th>\n",
              "      <th>pizza_size</th>\n",
              "      <th>pizza_category</th>\n",
              "      <th>pizza_ingredients</th>\n",
              "      <th>pizza_name</th>\n",
              "    </tr>\n",
              "  </thead>\n",
              "  <tbody>\n",
              "    <tr>\n",
              "      <th>0</th>\n",
              "      <td>0.000000</td>\n",
              "      <td>27</td>\n",
              "      <td>1</td>\n",
              "      <td>13.25</td>\n",
              "      <td>0</td>\n",
              "      <td>1</td>\n",
              "      <td>22</td>\n",
              "      <td>12</td>\n",
              "    </tr>\n",
              "    <tr>\n",
              "      <th>1</th>\n",
              "      <td>0.000047</td>\n",
              "      <td>18</td>\n",
              "      <td>1</td>\n",
              "      <td>16.00</td>\n",
              "      <td>0</td>\n",
              "      <td>1</td>\n",
              "      <td>19</td>\n",
              "      <td>7</td>\n",
              "    </tr>\n",
              "    <tr>\n",
              "      <th>2</th>\n",
              "      <td>0.000047</td>\n",
              "      <td>20</td>\n",
              "      <td>1</td>\n",
              "      <td>18.50</td>\n",
              "      <td>1</td>\n",
              "      <td>3</td>\n",
              "      <td>16</td>\n",
              "      <td>8</td>\n",
              "    </tr>\n",
              "    <tr>\n",
              "      <th>3</th>\n",
              "      <td>0.000047</td>\n",
              "      <td>32</td>\n",
              "      <td>1</td>\n",
              "      <td>20.75</td>\n",
              "      <td>1</td>\n",
              "      <td>2</td>\n",
              "      <td>3</td>\n",
              "      <td>14</td>\n",
              "    </tr>\n",
              "    <tr>\n",
              "      <th>4</th>\n",
              "      <td>0.000047</td>\n",
              "      <td>42</td>\n",
              "      <td>1</td>\n",
              "      <td>16.00</td>\n",
              "      <td>0</td>\n",
              "      <td>3</td>\n",
              "      <td>30</td>\n",
              "      <td>17</td>\n",
              "    </tr>\n",
              "    <tr>\n",
              "      <th>...</th>\n",
              "      <td>...</td>\n",
              "      <td>...</td>\n",
              "      <td>...</td>\n",
              "      <td>...</td>\n",
              "      <td>...</td>\n",
              "      <td>...</td>\n",
              "      <td>...</td>\n",
              "      <td>...</td>\n",
              "    </tr>\n",
              "    <tr>\n",
              "      <th>48615</th>\n",
              "      <td>0.999906</td>\n",
              "      <td>12</td>\n",
              "      <td>1</td>\n",
              "      <td>16.75</td>\n",
              "      <td>0</td>\n",
              "      <td>0</td>\n",
              "      <td>8</td>\n",
              "      <td>5</td>\n",
              "    </tr>\n",
              "    <tr>\n",
              "      <th>48616</th>\n",
              "      <td>0.999906</td>\n",
              "      <td>21</td>\n",
              "      <td>1</td>\n",
              "      <td>17.95</td>\n",
              "      <td>1</td>\n",
              "      <td>3</td>\n",
              "      <td>21</td>\n",
              "      <td>9</td>\n",
              "    </tr>\n",
              "    <tr>\n",
              "      <th>48617</th>\n",
              "      <td>0.999906</td>\n",
              "      <td>46</td>\n",
              "      <td>1</td>\n",
              "      <td>12.00</td>\n",
              "      <td>2</td>\n",
              "      <td>1</td>\n",
              "      <td>29</td>\n",
              "      <td>18</td>\n",
              "    </tr>\n",
              "    <tr>\n",
              "      <th>48618</th>\n",
              "      <td>0.999953</td>\n",
              "      <td>41</td>\n",
              "      <td>1</td>\n",
              "      <td>20.25</td>\n",
              "      <td>1</td>\n",
              "      <td>3</td>\n",
              "      <td>30</td>\n",
              "      <td>17</td>\n",
              "    </tr>\n",
              "    <tr>\n",
              "      <th>48619</th>\n",
              "      <td>1.000000</td>\n",
              "      <td>2</td>\n",
              "      <td>1</td>\n",
              "      <td>12.75</td>\n",
              "      <td>2</td>\n",
              "      <td>0</td>\n",
              "      <td>1</td>\n",
              "      <td>0</td>\n",
              "    </tr>\n",
              "  </tbody>\n",
              "</table>\n",
              "<p>48620 rows × 8 columns</p>\n",
              "</div>\n",
              "      <button class=\"colab-df-convert\" onclick=\"convertToInteractive('df-018a52ad-a105-47ba-82cb-e41f46f6a50c')\"\n",
              "              title=\"Convert this dataframe to an interactive table.\"\n",
              "              style=\"display:none;\">\n",
              "        \n",
              "  <svg xmlns=\"http://www.w3.org/2000/svg\" height=\"24px\"viewBox=\"0 0 24 24\"\n",
              "       width=\"24px\">\n",
              "    <path d=\"M0 0h24v24H0V0z\" fill=\"none\"/>\n",
              "    <path d=\"M18.56 5.44l.94 2.06.94-2.06 2.06-.94-2.06-.94-.94-2.06-.94 2.06-2.06.94zm-11 1L8.5 8.5l.94-2.06 2.06-.94-2.06-.94L8.5 2.5l-.94 2.06-2.06.94zm10 10l.94 2.06.94-2.06 2.06-.94-2.06-.94-.94-2.06-.94 2.06-2.06.94z\"/><path d=\"M17.41 7.96l-1.37-1.37c-.4-.4-.92-.59-1.43-.59-.52 0-1.04.2-1.43.59L10.3 9.45l-7.72 7.72c-.78.78-.78 2.05 0 2.83L4 21.41c.39.39.9.59 1.41.59.51 0 1.02-.2 1.41-.59l7.78-7.78 2.81-2.81c.8-.78.8-2.07 0-2.86zM5.41 20L4 18.59l7.72-7.72 1.47 1.35L5.41 20z\"/>\n",
              "  </svg>\n",
              "      </button>\n",
              "      \n",
              "  <style>\n",
              "    .colab-df-container {\n",
              "      display:flex;\n",
              "      flex-wrap:wrap;\n",
              "      gap: 12px;\n",
              "    }\n",
              "\n",
              "    .colab-df-convert {\n",
              "      background-color: #E8F0FE;\n",
              "      border: none;\n",
              "      border-radius: 50%;\n",
              "      cursor: pointer;\n",
              "      display: none;\n",
              "      fill: #1967D2;\n",
              "      height: 32px;\n",
              "      padding: 0 0 0 0;\n",
              "      width: 32px;\n",
              "    }\n",
              "\n",
              "    .colab-df-convert:hover {\n",
              "      background-color: #E2EBFA;\n",
              "      box-shadow: 0px 1px 2px rgba(60, 64, 67, 0.3), 0px 1px 3px 1px rgba(60, 64, 67, 0.15);\n",
              "      fill: #174EA6;\n",
              "    }\n",
              "\n",
              "    [theme=dark] .colab-df-convert {\n",
              "      background-color: #3B4455;\n",
              "      fill: #D2E3FC;\n",
              "    }\n",
              "\n",
              "    [theme=dark] .colab-df-convert:hover {\n",
              "      background-color: #434B5C;\n",
              "      box-shadow: 0px 1px 3px 1px rgba(0, 0, 0, 0.15);\n",
              "      filter: drop-shadow(0px 1px 2px rgba(0, 0, 0, 0.3));\n",
              "      fill: #FFFFFF;\n",
              "    }\n",
              "  </style>\n",
              "\n",
              "      <script>\n",
              "        const buttonEl =\n",
              "          document.querySelector('#df-018a52ad-a105-47ba-82cb-e41f46f6a50c button.colab-df-convert');\n",
              "        buttonEl.style.display =\n",
              "          google.colab.kernel.accessAllowed ? 'block' : 'none';\n",
              "\n",
              "        async function convertToInteractive(key) {\n",
              "          const element = document.querySelector('#df-018a52ad-a105-47ba-82cb-e41f46f6a50c');\n",
              "          const dataTable =\n",
              "            await google.colab.kernel.invokeFunction('convertToInteractive',\n",
              "                                                     [key], {});\n",
              "          if (!dataTable) return;\n",
              "\n",
              "          const docLinkHtml = 'Like what you see? Visit the ' +\n",
              "            '<a target=\"_blank\" href=https://colab.research.google.com/notebooks/data_table.ipynb>data table notebook</a>'\n",
              "            + ' to learn more about interactive tables.';\n",
              "          element.innerHTML = '';\n",
              "          dataTable['output_type'] = 'display_data';\n",
              "          await google.colab.output.renderOutput(dataTable, element);\n",
              "          const docLink = document.createElement('div');\n",
              "          docLink.innerHTML = docLinkHtml;\n",
              "          element.appendChild(docLink);\n",
              "        }\n",
              "      </script>\n",
              "    </div>\n",
              "  </div>\n",
              "  "
            ]
          },
          "metadata": {},
          "execution_count": 29
        }
      ]
    },
    {
      "cell_type": "code",
      "source": [
        "df"
      ],
      "metadata": {
        "id": "5fkhicxb680B",
        "colab": {
          "base_uri": "https://localhost:8080/",
          "height": 423
        },
        "outputId": "ee122c14-a373-4ba0-9e62-849fc61db3e9"
      },
      "execution_count": 30,
      "outputs": [
        {
          "output_type": "execute_result",
          "data": {
            "text/plain": [
              "       order_id  pizza_id  quantity  total_price  pizza_size  pizza_category  \\\n",
              "0             1        27         1        13.25           0               1   \n",
              "1             2        18         1        16.00           0               1   \n",
              "2             2        20         1        18.50           1               3   \n",
              "3             2        32         1        20.75           1               2   \n",
              "4             2        42         1        16.00           0               3   \n",
              "...         ...       ...       ...          ...         ...             ...   \n",
              "48615     21348        12         1        16.75           0               0   \n",
              "48616     21348        21         1        17.95           1               3   \n",
              "48617     21348        46         1        12.00           2               1   \n",
              "48618     21349        41         1        20.25           1               3   \n",
              "48619     21350         2         1        12.75           2               0   \n",
              "\n",
              "       pizza_ingredients  pizza_name  \n",
              "0                     22          12  \n",
              "1                     19           7  \n",
              "2                     16           8  \n",
              "3                      3          14  \n",
              "4                     30          17  \n",
              "...                  ...         ...  \n",
              "48615                  8           5  \n",
              "48616                 21           9  \n",
              "48617                 29          18  \n",
              "48618                 30          17  \n",
              "48619                  1           0  \n",
              "\n",
              "[48620 rows x 8 columns]"
            ],
            "text/html": [
              "\n",
              "  <div id=\"df-b140b986-9625-4c16-81df-0458e59013d5\">\n",
              "    <div class=\"colab-df-container\">\n",
              "      <div>\n",
              "<style scoped>\n",
              "    .dataframe tbody tr th:only-of-type {\n",
              "        vertical-align: middle;\n",
              "    }\n",
              "\n",
              "    .dataframe tbody tr th {\n",
              "        vertical-align: top;\n",
              "    }\n",
              "\n",
              "    .dataframe thead th {\n",
              "        text-align: right;\n",
              "    }\n",
              "</style>\n",
              "<table border=\"1\" class=\"dataframe\">\n",
              "  <thead>\n",
              "    <tr style=\"text-align: right;\">\n",
              "      <th></th>\n",
              "      <th>order_id</th>\n",
              "      <th>pizza_id</th>\n",
              "      <th>quantity</th>\n",
              "      <th>total_price</th>\n",
              "      <th>pizza_size</th>\n",
              "      <th>pizza_category</th>\n",
              "      <th>pizza_ingredients</th>\n",
              "      <th>pizza_name</th>\n",
              "    </tr>\n",
              "  </thead>\n",
              "  <tbody>\n",
              "    <tr>\n",
              "      <th>0</th>\n",
              "      <td>1</td>\n",
              "      <td>27</td>\n",
              "      <td>1</td>\n",
              "      <td>13.25</td>\n",
              "      <td>0</td>\n",
              "      <td>1</td>\n",
              "      <td>22</td>\n",
              "      <td>12</td>\n",
              "    </tr>\n",
              "    <tr>\n",
              "      <th>1</th>\n",
              "      <td>2</td>\n",
              "      <td>18</td>\n",
              "      <td>1</td>\n",
              "      <td>16.00</td>\n",
              "      <td>0</td>\n",
              "      <td>1</td>\n",
              "      <td>19</td>\n",
              "      <td>7</td>\n",
              "    </tr>\n",
              "    <tr>\n",
              "      <th>2</th>\n",
              "      <td>2</td>\n",
              "      <td>20</td>\n",
              "      <td>1</td>\n",
              "      <td>18.50</td>\n",
              "      <td>1</td>\n",
              "      <td>3</td>\n",
              "      <td>16</td>\n",
              "      <td>8</td>\n",
              "    </tr>\n",
              "    <tr>\n",
              "      <th>3</th>\n",
              "      <td>2</td>\n",
              "      <td>32</td>\n",
              "      <td>1</td>\n",
              "      <td>20.75</td>\n",
              "      <td>1</td>\n",
              "      <td>2</td>\n",
              "      <td>3</td>\n",
              "      <td>14</td>\n",
              "    </tr>\n",
              "    <tr>\n",
              "      <th>4</th>\n",
              "      <td>2</td>\n",
              "      <td>42</td>\n",
              "      <td>1</td>\n",
              "      <td>16.00</td>\n",
              "      <td>0</td>\n",
              "      <td>3</td>\n",
              "      <td>30</td>\n",
              "      <td>17</td>\n",
              "    </tr>\n",
              "    <tr>\n",
              "      <th>...</th>\n",
              "      <td>...</td>\n",
              "      <td>...</td>\n",
              "      <td>...</td>\n",
              "      <td>...</td>\n",
              "      <td>...</td>\n",
              "      <td>...</td>\n",
              "      <td>...</td>\n",
              "      <td>...</td>\n",
              "    </tr>\n",
              "    <tr>\n",
              "      <th>48615</th>\n",
              "      <td>21348</td>\n",
              "      <td>12</td>\n",
              "      <td>1</td>\n",
              "      <td>16.75</td>\n",
              "      <td>0</td>\n",
              "      <td>0</td>\n",
              "      <td>8</td>\n",
              "      <td>5</td>\n",
              "    </tr>\n",
              "    <tr>\n",
              "      <th>48616</th>\n",
              "      <td>21348</td>\n",
              "      <td>21</td>\n",
              "      <td>1</td>\n",
              "      <td>17.95</td>\n",
              "      <td>1</td>\n",
              "      <td>3</td>\n",
              "      <td>21</td>\n",
              "      <td>9</td>\n",
              "    </tr>\n",
              "    <tr>\n",
              "      <th>48617</th>\n",
              "      <td>21348</td>\n",
              "      <td>46</td>\n",
              "      <td>1</td>\n",
              "      <td>12.00</td>\n",
              "      <td>2</td>\n",
              "      <td>1</td>\n",
              "      <td>29</td>\n",
              "      <td>18</td>\n",
              "    </tr>\n",
              "    <tr>\n",
              "      <th>48618</th>\n",
              "      <td>21349</td>\n",
              "      <td>41</td>\n",
              "      <td>1</td>\n",
              "      <td>20.25</td>\n",
              "      <td>1</td>\n",
              "      <td>3</td>\n",
              "      <td>30</td>\n",
              "      <td>17</td>\n",
              "    </tr>\n",
              "    <tr>\n",
              "      <th>48619</th>\n",
              "      <td>21350</td>\n",
              "      <td>2</td>\n",
              "      <td>1</td>\n",
              "      <td>12.75</td>\n",
              "      <td>2</td>\n",
              "      <td>0</td>\n",
              "      <td>1</td>\n",
              "      <td>0</td>\n",
              "    </tr>\n",
              "  </tbody>\n",
              "</table>\n",
              "<p>48620 rows × 8 columns</p>\n",
              "</div>\n",
              "      <button class=\"colab-df-convert\" onclick=\"convertToInteractive('df-b140b986-9625-4c16-81df-0458e59013d5')\"\n",
              "              title=\"Convert this dataframe to an interactive table.\"\n",
              "              style=\"display:none;\">\n",
              "        \n",
              "  <svg xmlns=\"http://www.w3.org/2000/svg\" height=\"24px\"viewBox=\"0 0 24 24\"\n",
              "       width=\"24px\">\n",
              "    <path d=\"M0 0h24v24H0V0z\" fill=\"none\"/>\n",
              "    <path d=\"M18.56 5.44l.94 2.06.94-2.06 2.06-.94-2.06-.94-.94-2.06-.94 2.06-2.06.94zm-11 1L8.5 8.5l.94-2.06 2.06-.94-2.06-.94L8.5 2.5l-.94 2.06-2.06.94zm10 10l.94 2.06.94-2.06 2.06-.94-2.06-.94-.94-2.06-.94 2.06-2.06.94z\"/><path d=\"M17.41 7.96l-1.37-1.37c-.4-.4-.92-.59-1.43-.59-.52 0-1.04.2-1.43.59L10.3 9.45l-7.72 7.72c-.78.78-.78 2.05 0 2.83L4 21.41c.39.39.9.59 1.41.59.51 0 1.02-.2 1.41-.59l7.78-7.78 2.81-2.81c.8-.78.8-2.07 0-2.86zM5.41 20L4 18.59l7.72-7.72 1.47 1.35L5.41 20z\"/>\n",
              "  </svg>\n",
              "      </button>\n",
              "      \n",
              "  <style>\n",
              "    .colab-df-container {\n",
              "      display:flex;\n",
              "      flex-wrap:wrap;\n",
              "      gap: 12px;\n",
              "    }\n",
              "\n",
              "    .colab-df-convert {\n",
              "      background-color: #E8F0FE;\n",
              "      border: none;\n",
              "      border-radius: 50%;\n",
              "      cursor: pointer;\n",
              "      display: none;\n",
              "      fill: #1967D2;\n",
              "      height: 32px;\n",
              "      padding: 0 0 0 0;\n",
              "      width: 32px;\n",
              "    }\n",
              "\n",
              "    .colab-df-convert:hover {\n",
              "      background-color: #E2EBFA;\n",
              "      box-shadow: 0px 1px 2px rgba(60, 64, 67, 0.3), 0px 1px 3px 1px rgba(60, 64, 67, 0.15);\n",
              "      fill: #174EA6;\n",
              "    }\n",
              "\n",
              "    [theme=dark] .colab-df-convert {\n",
              "      background-color: #3B4455;\n",
              "      fill: #D2E3FC;\n",
              "    }\n",
              "\n",
              "    [theme=dark] .colab-df-convert:hover {\n",
              "      background-color: #434B5C;\n",
              "      box-shadow: 0px 1px 3px 1px rgba(0, 0, 0, 0.15);\n",
              "      filter: drop-shadow(0px 1px 2px rgba(0, 0, 0, 0.3));\n",
              "      fill: #FFFFFF;\n",
              "    }\n",
              "  </style>\n",
              "\n",
              "      <script>\n",
              "        const buttonEl =\n",
              "          document.querySelector('#df-b140b986-9625-4c16-81df-0458e59013d5 button.colab-df-convert');\n",
              "        buttonEl.style.display =\n",
              "          google.colab.kernel.accessAllowed ? 'block' : 'none';\n",
              "\n",
              "        async function convertToInteractive(key) {\n",
              "          const element = document.querySelector('#df-b140b986-9625-4c16-81df-0458e59013d5');\n",
              "          const dataTable =\n",
              "            await google.colab.kernel.invokeFunction('convertToInteractive',\n",
              "                                                     [key], {});\n",
              "          if (!dataTable) return;\n",
              "\n",
              "          const docLinkHtml = 'Like what you see? Visit the ' +\n",
              "            '<a target=\"_blank\" href=https://colab.research.google.com/notebooks/data_table.ipynb>data table notebook</a>'\n",
              "            + ' to learn more about interactive tables.';\n",
              "          element.innerHTML = '';\n",
              "          dataTable['output_type'] = 'display_data';\n",
              "          await google.colab.output.renderOutput(dataTable, element);\n",
              "          const docLink = document.createElement('div');\n",
              "          docLink.innerHTML = docLinkHtml;\n",
              "          element.appendChild(docLink);\n",
              "        }\n",
              "      </script>\n",
              "    </div>\n",
              "  </div>\n",
              "  "
            ]
          },
          "metadata": {},
          "execution_count": 30
        }
      ]
    },
    {
      "cell_type": "markdown",
      "source": [
        "# Metodo Elbow"
      ],
      "metadata": {
        "id": "3VTiqHyN6e7P"
      }
    },
    {
      "cell_type": "code",
      "source": [
        "inertia = [] #centroid\n",
        "num_clusters = range(1, 50) #aqui usei de 1 a 13 clusters\n",
        "\n",
        "for k in num_clusters:\n",
        "  Model = KMeans(n_clusters=k)#pega de 1 a 14 do range e constroi o gráfico\n",
        "  Model.fit(df) #fazendo o treinamento do meu df normalizado acima\n",
        "  inertia.append(Model.inertia_) #será adicionado ao inertia o novo valor "
      ],
      "metadata": {
        "id": "6LVKpMOk6bj6"
      },
      "execution_count": 31,
      "outputs": []
    },
    {
      "cell_type": "code",
      "source": [
        "plt.figure(figsize=(15,7)) #plotando o grafico\n",
        "sns.lineplot(x=num_clusters, y=inertia, color='cadetblue', marker='o') #eixo x os cluster e eixo y os centroids(inertia)\n",
        "plt.xlabel('\\nk', size=12)\n",
        "plt.ylabel('Soma da distância ao quadrado\\n', size=12)\n",
        "plt.title('Metodo de elbow\\n', size=20)\n",
        "plt.show()"
      ],
      "metadata": {
        "colab": {
          "base_uri": "https://localhost:8080/",
          "height": 706
        },
        "id": "LjRnhbZZ7Sim",
        "outputId": "83d36275-c387-4049-e1ce-efabbd88b311"
      },
      "execution_count": 32,
      "outputs": [
        {
          "output_type": "display_data",
          "data": {
            "text/plain": [
              "<Figure size 1500x700 with 1 Axes>"
            ],
            "image/png": "[encoded data removed]"
          },
          "metadata": {}
        }
      ]
    },
    {
      "cell_type": "markdown",
      "source": [
        "# Alocação de pesos"
      ],
      "metadata": {
        "id": "m9uz1BBjihp0"
      }
    },
    {
      "cell_type": "code",
      "source": [
        "#remove colunas do df\n",
        "df_peso = df\n",
        "df_peso.drop(columns=['order_id', 'pizza_id', 'quantity'], inplace=True)\n",
        "df_peso\n"
      ],
      "metadata": {
        "colab": {
          "base_uri": "https://localhost:8080/",
          "height": 423
        },
        "id": "DCcfs-7CidB8",
        "outputId": "2f6b3204-e287-4287-c298-ed0019d8a78d"
      },
      "execution_count": 33,
      "outputs": [
        {
          "output_type": "execute_result",
          "data": {
            "text/plain": [
              "       total_price  pizza_size  pizza_category  pizza_ingredients  pizza_name\n",
              "0            13.25           0               1                 22          12\n",
              "1            16.00           0               1                 19           7\n",
              "2            18.50           1               3                 16           8\n",
              "3            20.75           1               2                  3          14\n",
              "4            16.00           0               3                 30          17\n",
              "...            ...         ...             ...                ...         ...\n",
              "48615        16.75           0               0                  8           5\n",
              "48616        17.95           1               3                 21           9\n",
              "48617        12.00           2               1                 29          18\n",
              "48618        20.25           1               3                 30          17\n",
              "48619        12.75           2               0                  1           0\n",
              "\n",
              "[48620 rows x 5 columns]"
            ],
            "text/html": [
              "\n",
              "  <div id=\"df-d1aa4e22-102a-443e-b583-0fc04b468931\">\n",
              "    <div class=\"colab-df-container\">\n",
              "      <div>\n",
              "<style scoped>\n",
              "    .dataframe tbody tr th:only-of-type {\n",
              "        vertical-align: middle;\n",
              "    }\n",
              "\n",
              "    .dataframe tbody tr th {\n",
              "        vertical-align: top;\n",
              "    }\n",
              "\n",
              "    .dataframe thead th {\n",
              "        text-align: right;\n",
              "    }\n",
              "</style>\n",
              "<table border=\"1\" class=\"dataframe\">\n",
              "  <thead>\n",
              "    <tr style=\"text-align: right;\">\n",
              "      <th></th>\n",
              "      <th>total_price</th>\n",
              "      <th>pizza_size</th>\n",
              "      <th>pizza_category</th>\n",
              "      <th>pizza_ingredients</th>\n",
              "      <th>pizza_name</th>\n",
              "    </tr>\n",
              "  </thead>\n",
              "  <tbody>\n",
              "    <tr>\n",
              "      <th>0</th>\n",
              "      <td>13.25</td>\n",
              "      <td>0</td>\n",
              "      <td>1</td>\n",
              "      <td>22</td>\n",
              "      <td>12</td>\n",
              "    </tr>\n",
              "    <tr>\n",
              "      <th>1</th>\n",
              "      <td>16.00</td>\n",
              "      <td>0</td>\n",
              "      <td>1</td>\n",
              "      <td>19</td>\n",
              "      <td>7</td>\n",
              "    </tr>\n",
              "    <tr>\n",
              "      <th>2</th>\n",
              "      <td>18.50</td>\n",
              "      <td>1</td>\n",
              "      <td>3</td>\n",
              "      <td>16</td>\n",
              "      <td>8</td>\n",
              "    </tr>\n",
              "    <tr>\n",
              "      <th>3</th>\n",
              "      <td>20.75</td>\n",
              "      <td>1</td>\n",
              "      <td>2</td>\n",
              "      <td>3</td>\n",
              "      <td>14</td>\n",
              "    </tr>\n",
              "    <tr>\n",
              "      <th>4</th>\n",
              "      <td>16.00</td>\n",
              "      <td>0</td>\n",
              "      <td>3</td>\n",
              "      <td>30</td>\n",
              "      <td>17</td>\n",
              "    </tr>\n",
              "    <tr>\n",
              "      <th>...</th>\n",
              "      <td>...</td>\n",
              "      <td>...</td>\n",
              "      <td>...</td>\n",
              "      <td>...</td>\n",
              "      <td>...</td>\n",
              "    </tr>\n",
              "    <tr>\n",
              "      <th>48615</th>\n",
              "      <td>16.75</td>\n",
              "      <td>0</td>\n",
              "      <td>0</td>\n",
              "      <td>8</td>\n",
              "      <td>5</td>\n",
              "    </tr>\n",
              "    <tr>\n",
              "      <th>48616</th>\n",
              "      <td>17.95</td>\n",
              "      <td>1</td>\n",
              "      <td>3</td>\n",
              "      <td>21</td>\n",
              "      <td>9</td>\n",
              "    </tr>\n",
              "    <tr>\n",
              "      <th>48617</th>\n",
              "      <td>12.00</td>\n",
              "      <td>2</td>\n",
              "      <td>1</td>\n",
              "      <td>29</td>\n",
              "      <td>18</td>\n",
              "    </tr>\n",
              "    <tr>\n",
              "      <th>48618</th>\n",
              "      <td>20.25</td>\n",
              "      <td>1</td>\n",
              "      <td>3</td>\n",
              "      <td>30</td>\n",
              "      <td>17</td>\n",
              "    </tr>\n",
              "    <tr>\n",
              "      <th>48619</th>\n",
              "      <td>12.75</td>\n",
              "      <td>2</td>\n",
              "      <td>0</td>\n",
              "      <td>1</td>\n",
              "      <td>0</td>\n",
              "    </tr>\n",
              "  </tbody>\n",
              "</table>\n",
              "<p>48620 rows × 5 columns</p>\n",
              "</div>\n",
              "      <button class=\"colab-df-convert\" onclick=\"convertToInteractive('df-d1aa4e22-102a-443e-b583-0fc04b468931')\"\n",
              "              title=\"Convert this dataframe to an interactive table.\"\n",
              "              style=\"display:none;\">\n",
              "        \n",
              "  <svg xmlns=\"http://www.w3.org/2000/svg\" height=\"24px\"viewBox=\"0 0 24 24\"\n",
              "       width=\"24px\">\n",
              "    <path d=\"M0 0h24v24H0V0z\" fill=\"none\"/>\n",
              "    <path d=\"M18.56 5.44l.94 2.06.94-2.06 2.06-.94-2.06-.94-.94-2.06-.94 2.06-2.06.94zm-11 1L8.5 8.5l.94-2.06 2.06-.94-2.06-.94L8.5 2.5l-.94 2.06-2.06.94zm10 10l.94 2.06.94-2.06 2.06-.94-2.06-.94-.94-2.06-.94 2.06-2.06.94z\"/><path d=\"M17.41 7.96l-1.37-1.37c-.4-.4-.92-.59-1.43-.59-.52 0-1.04.2-1.43.59L10.3 9.45l-7.72 7.72c-.78.78-.78 2.05 0 2.83L4 21.41c.39.39.9.59 1.41.59.51 0 1.02-.2 1.41-.59l7.78-7.78 2.81-2.81c.8-.78.8-2.07 0-2.86zM5.41 20L4 18.59l7.72-7.72 1.47 1.35L5.41 20z\"/>\n",
              "  </svg>\n",
              "      </button>\n",
              "      \n",
              "  <style>\n",
              "    .colab-df-container {\n",
              "      display:flex;\n",
              "      flex-wrap:wrap;\n",
              "      gap: 12px;\n",
              "    }\n",
              "\n",
              "    .colab-df-convert {\n",
              "      background-color: #E8F0FE;\n",
              "      border: none;\n",
              "      border-radius: 50%;\n",
              "      cursor: pointer;\n",
              "      display: none;\n",
              "      fill: #1967D2;\n",
              "      height: 32px;\n",
              "      padding: 0 0 0 0;\n",
              "      width: 32px;\n",
              "    }\n",
              "\n",
              "    .colab-df-convert:hover {\n",
              "      background-color: #E2EBFA;\n",
              "      box-shadow: 0px 1px 2px rgba(60, 64, 67, 0.3), 0px 1px 3px 1px rgba(60, 64, 67, 0.15);\n",
              "      fill: #174EA6;\n",
              "    }\n",
              "\n",
              "    [theme=dark] .colab-df-convert {\n",
              "      background-color: #3B4455;\n",
              "      fill: #D2E3FC;\n",
              "    }\n",
              "\n",
              "    [theme=dark] .colab-df-convert:hover {\n",
              "      background-color: #434B5C;\n",
              "      box-shadow: 0px 1px 3px 1px rgba(0, 0, 0, 0.15);\n",
              "      filter: drop-shadow(0px 1px 2px rgba(0, 0, 0, 0.3));\n",
              "      fill: #FFFFFF;\n",
              "    }\n",
              "  </style>\n",
              "\n",
              "      <script>\n",
              "        const buttonEl =\n",
              "          document.querySelector('#df-d1aa4e22-102a-443e-b583-0fc04b468931 button.colab-df-convert');\n",
              "        buttonEl.style.display =\n",
              "          google.colab.kernel.accessAllowed ? 'block' : 'none';\n",
              "\n",
              "        async function convertToInteractive(key) {\n",
              "          const element = document.querySelector('#df-d1aa4e22-102a-443e-b583-0fc04b468931');\n",
              "          const dataTable =\n",
              "            await google.colab.kernel.invokeFunction('convertToInteractive',\n",
              "                                                     [key], {});\n",
              "          if (!dataTable) return;\n",
              "\n",
              "          const docLinkHtml = 'Like what you see? Visit the ' +\n",
              "            '<a target=\"_blank\" href=https://colab.research.google.com/notebooks/data_table.ipynb>data table notebook</a>'\n",
              "            + ' to learn more about interactive tables.';\n",
              "          element.innerHTML = '';\n",
              "          dataTable['output_type'] = 'display_data';\n",
              "          await google.colab.output.renderOutput(dataTable, element);\n",
              "          const docLink = document.createElement('div');\n",
              "          docLink.innerHTML = docLinkHtml;\n",
              "          element.appendChild(docLink);\n",
              "        }\n",
              "      </script>\n",
              "    </div>\n",
              "  </div>\n",
              "  "
            ]
          },
          "metadata": {},
          "execution_count": 33
        }
      ]
    },
    {
      "cell_type": "code",
      "source": [
        "#aplica peso nas colunas\n",
        "df_peso['total_price']\n",
        "for indice_linha, valor in enumerate(df_peso['total_price']):\n",
        "    df_peso.loc[indice_linha, 'total_price'] = valor * 2\n",
        "\n",
        "for indice_linha, valor in enumerate(df_peso['pizza_size']):\n",
        "    df_peso.loc[indice_linha, 'pizza_size'] = valor * 2\n",
        "\n",
        "for indice_linha, valor in enumerate(df_peso['pizza_category']):\n",
        "    df_peso.loc[indice_linha, 'pizza_category'] = valor * 4\n",
        "\n",
        "for indice_linha, valor in enumerate(df_peso['pizza_ingredients']):\n",
        "    df_peso.loc[indice_linha, 'pizza_ingredients'] = valor * 2\n",
        "\n",
        "for indice_linha, valor in enumerate(df_peso['pizza_name']):\n",
        "    df_peso.loc[indice_linha, 'pizza_name'] = valor * 2\n",
        "    \n",
        "df_peso"
      ],
      "metadata": {
        "colab": {
          "base_uri": "https://localhost:8080/",
          "height": 423
        },
        "id": "ZBT5tUdfipvm",
        "outputId": "078db458-f719-4de8-bd4a-e78eed0c7d3c"
      },
      "execution_count": 34,
      "outputs": [
        {
          "output_type": "execute_result",
          "data": {
            "text/plain": [
              "       total_price  pizza_size  pizza_category  pizza_ingredients  pizza_name\n",
              "0             26.5           0               4                 44          24\n",
              "1             32.0           0               4                 38          14\n",
              "2             37.0           2              12                 32          16\n",
              "3             41.5           2               8                  6          28\n",
              "4             32.0           0              12                 60          34\n",
              "...            ...         ...             ...                ...         ...\n",
              "48615         33.5           0               0                 16          10\n",
              "48616         35.9           2              12                 42          18\n",
              "48617         24.0           4               4                 58          36\n",
              "48618         40.5           2              12                 60          34\n",
              "48619         25.5           4               0                  2           0\n",
              "\n",
              "[48620 rows x 5 columns]"
            ],
            "text/html": [
              "\n",
              "  <div id=\"df-9db309eb-c967-44ee-b96f-f23a111149bd\">\n",
              "    <div class=\"colab-df-container\">\n",
              "      <div>\n",
              "<style scoped>\n",
              "    .dataframe tbody tr th:only-of-type {\n",
              "        vertical-align: middle;\n",
              "    }\n",
              "\n",
              "    .dataframe tbody tr th {\n",
              "        vertical-align: top;\n",
              "    }\n",
              "\n",
              "    .dataframe thead th {\n",
              "        text-align: right;\n",
              "    }\n",
              "</style>\n",
              "<table border=\"1\" class=\"dataframe\">\n",
              "  <thead>\n",
              "    <tr style=\"text-align: right;\">\n",
              "      <th></th>\n",
              "      <th>total_price</th>\n",
              "      <th>pizza_size</th>\n",
              "      <th>pizza_category</th>\n",
              "      <th>pizza_ingredients</th>\n",
              "      <th>pizza_name</th>\n",
              "    </tr>\n",
              "  </thead>\n",
              "  <tbody>\n",
              "    <tr>\n",
              "      <th>0</th>\n",
              "      <td>26.5</td>\n",
              "      <td>0</td>\n",
              "      <td>4</td>\n",
              "      <td>44</td>\n",
              "      <td>24</td>\n",
              "    </tr>\n",
              "    <tr>\n",
              "      <th>1</th>\n",
              "      <td>32.0</td>\n",
              "      <td>0</td>\n",
              "      <td>4</td>\n",
              "      <td>38</td>\n",
              "      <td>14</td>\n",
              "    </tr>\n",
              "    <tr>\n",
              "      <th>2</th>\n",
              "      <td>37.0</td>\n",
              "      <td>2</td>\n",
              "      <td>12</td>\n",
              "      <td>32</td>\n",
              "      <td>16</td>\n",
              "    </tr>\n",
              "    <tr>\n",
              "      <th>3</th>\n",
              "      <td>41.5</td>\n",
              "      <td>2</td>\n",
              "      <td>8</td>\n",
              "      <td>6</td>\n",
              "      <td>28</td>\n",
              "    </tr>\n",
              "    <tr>\n",
              "      <th>4</th>\n",
              "      <td>32.0</td>\n",
              "      <td>0</td>\n",
              "      <td>12</td>\n",
              "      <td>60</td>\n",
              "      <td>34</td>\n",
              "    </tr>\n",
              "    <tr>\n",
              "      <th>...</th>\n",
              "      <td>...</td>\n",
              "      <td>...</td>\n",
              "      <td>...</td>\n",
              "      <td>...</td>\n",
              "      <td>...</td>\n",
              "    </tr>\n",
              "    <tr>\n",
              "      <th>48615</th>\n",
              "      <td>33.5</td>\n",
              "      <td>0</td>\n",
              "      <td>0</td>\n",
              "      <td>16</td>\n",
              "      <td>10</td>\n",
              "    </tr>\n",
              "    <tr>\n",
              "      <th>48616</th>\n",
              "      <td>35.9</td>\n",
              "      <td>2</td>\n",
              "      <td>12</td>\n",
              "      <td>42</td>\n",
              "      <td>18</td>\n",
              "    </tr>\n",
              "    <tr>\n",
              "      <th>48617</th>\n",
              "      <td>24.0</td>\n",
              "      <td>4</td>\n",
              "      <td>4</td>\n",
              "      <td>58</td>\n",
              "      <td>36</td>\n",
              "    </tr>\n",
              "    <tr>\n",
              "      <th>48618</th>\n",
              "      <td>40.5</td>\n",
              "      <td>2</td>\n",
              "      <td>12</td>\n",
              "      <td>60</td>\n",
              "      <td>34</td>\n",
              "    </tr>\n",
              "    <tr>\n",
              "      <th>48619</th>\n",
              "      <td>25.5</td>\n",
              "      <td>4</td>\n",
              "      <td>0</td>\n",
              "      <td>2</td>\n",
              "      <td>0</td>\n",
              "    </tr>\n",
              "  </tbody>\n",
              "</table>\n",
              "<p>48620 rows × 5 columns</p>\n",
              "</div>\n",
              "      <button class=\"colab-df-convert\" onclick=\"convertToInteractive('df-9db309eb-c967-44ee-b96f-f23a111149bd')\"\n",
              "              title=\"Convert this dataframe to an interactive table.\"\n",
              "              style=\"display:none;\">\n",
              "        \n",
              "  <svg xmlns=\"http://www.w3.org/2000/svg\" height=\"24px\"viewBox=\"0 0 24 24\"\n",
              "       width=\"24px\">\n",
              "    <path d=\"M0 0h24v24H0V0z\" fill=\"none\"/>\n",
              "    <path d=\"M18.56 5.44l.94 2.06.94-2.06 2.06-.94-2.06-.94-.94-2.06-.94 2.06-2.06.94zm-11 1L8.5 8.5l.94-2.06 2.06-.94-2.06-.94L8.5 2.5l-.94 2.06-2.06.94zm10 10l.94 2.06.94-2.06 2.06-.94-2.06-.94-.94-2.06-.94 2.06-2.06.94z\"/><path d=\"M17.41 7.96l-1.37-1.37c-.4-.4-.92-.59-1.43-.59-.52 0-1.04.2-1.43.59L10.3 9.45l-7.72 7.72c-.78.78-.78 2.05 0 2.83L4 21.41c.39.39.9.59 1.41.59.51 0 1.02-.2 1.41-.59l7.78-7.78 2.81-2.81c.8-.78.8-2.07 0-2.86zM5.41 20L4 18.59l7.72-7.72 1.47 1.35L5.41 20z\"/>\n",
              "  </svg>\n",
              "      </button>\n",
              "      \n",
              "  <style>\n",
              "    .colab-df-container {\n",
              "      display:flex;\n",
              "      flex-wrap:wrap;\n",
              "      gap: 12px;\n",
              "    }\n",
              "\n",
              "    .colab-df-convert {\n",
              "      background-color: #E8F0FE;\n",
              "      border: none;\n",
              "      border-radius: 50%;\n",
              "      cursor: pointer;\n",
              "      display: none;\n",
              "      fill: #1967D2;\n",
              "      height: 32px;\n",
              "      padding: 0 0 0 0;\n",
              "      width: 32px;\n",
              "    }\n",
              "\n",
              "    .colab-df-convert:hover {\n",
              "      background-color: #E2EBFA;\n",
              "      box-shadow: 0px 1px 2px rgba(60, 64, 67, 0.3), 0px 1px 3px 1px rgba(60, 64, 67, 0.15);\n",
              "      fill: #174EA6;\n",
              "    }\n",
              "\n",
              "    [theme=dark] .colab-df-convert {\n",
              "      background-color: #3B4455;\n",
              "      fill: #D2E3FC;\n",
              "    }\n",
              "\n",
              "    [theme=dark] .colab-df-convert:hover {\n",
              "      background-color: #434B5C;\n",
              "      box-shadow: 0px 1px 3px 1px rgba(0, 0, 0, 0.15);\n",
              "      filter: drop-shadow(0px 1px 2px rgba(0, 0, 0, 0.3));\n",
              "      fill: #FFFFFF;\n",
              "    }\n",
              "  </style>\n",
              "\n",
              "      <script>\n",
              "        const buttonEl =\n",
              "          document.querySelector('#df-9db309eb-c967-44ee-b96f-f23a111149bd button.colab-df-convert');\n",
              "        buttonEl.style.display =\n",
              "          google.colab.kernel.accessAllowed ? 'block' : 'none';\n",
              "\n",
              "        async function convertToInteractive(key) {\n",
              "          const element = document.querySelector('#df-9db309eb-c967-44ee-b96f-f23a111149bd');\n",
              "          const dataTable =\n",
              "            await google.colab.kernel.invokeFunction('convertToInteractive',\n",
              "                                                     [key], {});\n",
              "          if (!dataTable) return;\n",
              "\n",
              "          const docLinkHtml = 'Like what you see? Visit the ' +\n",
              "            '<a target=\"_blank\" href=https://colab.research.google.com/notebooks/data_table.ipynb>data table notebook</a>'\n",
              "            + ' to learn more about interactive tables.';\n",
              "          element.innerHTML = '';\n",
              "          dataTable['output_type'] = 'display_data';\n",
              "          await google.colab.output.renderOutput(dataTable, element);\n",
              "          const docLink = document.createElement('div');\n",
              "          docLink.innerHTML = docLinkHtml;\n",
              "          element.appendChild(docLink);\n",
              "        }\n",
              "      </script>\n",
              "    </div>\n",
              "  </div>\n",
              "  "
            ]
          },
          "metadata": {},
          "execution_count": 34
        }
      ]
    },
    {
      "cell_type": "markdown",
      "source": [
        "# Clusterização"
      ],
      "metadata": {
        "id": "SicFFhkxjFoZ"
      }
    },
    {
      "cell_type": "code",
      "source": [
        "df_clustering = df_peso"
      ],
      "metadata": {
        "id": "kX9LqzVgjwca"
      },
      "execution_count": 49,
      "outputs": []
    },
    {
      "cell_type": "code",
      "source": [
        "Model = KMeans(n_clusters=8)"
      ],
      "metadata": {
        "id": "1kEveocJjBme"
      },
      "execution_count": 50,
      "outputs": []
    },
    {
      "cell_type": "code",
      "source": [
        "clusters = Model.fit_predict(df_clustering)"
      ],
      "metadata": {
        "id": "kYBsgdZTjtQx"
      },
      "execution_count": 51,
      "outputs": []
    },
    {
      "cell_type": "code",
      "source": [
        "clusters"
      ],
      "metadata": {
        "colab": {
          "base_uri": "https://localhost:8080/"
        },
        "id": "IQamSLn2kAqv",
        "outputId": "24917e2e-d1b3-465d-f9f0-e5c01c346cb4"
      },
      "execution_count": 52,
      "outputs": [
        {
          "output_type": "execute_result",
          "data": {
            "text/plain": [
              "array([4, 4, 4, ..., 2, 2, 5], dtype=int32)"
            ]
          },
          "metadata": {},
          "execution_count": 52
        }
      ]
    },
    {
      "cell_type": "code",
      "source": [
        "df_final = df_clustering"
      ],
      "metadata": {
        "id": "aAHCnI6VkXd0"
      },
      "execution_count": 53,
      "outputs": []
    },
    {
      "cell_type": "code",
      "source": [
        "df_final['cluster'] = clusters"
      ],
      "metadata": {
        "id": "iBj5gY7jkHll"
      },
      "execution_count": 54,
      "outputs": []
    },
    {
      "cell_type": "code",
      "source": [
        "df_final"
      ],
      "metadata": {
        "colab": {
          "base_uri": "https://localhost:8080/",
          "height": 423
        },
        "id": "j60b2Mp1J52K",
        "outputId": "bb072910-18f6-4a41-e92f-c84c82d189e9"
      },
      "execution_count": 55,
      "outputs": [
        {
          "output_type": "execute_result",
          "data": {
            "text/plain": [
              "       total_price  pizza_size  pizza_category  pizza_ingredients  pizza_name  \\\n",
              "0             26.5           0               4                 44          24   \n",
              "1             32.0           0               4                 38          14   \n",
              "2             37.0           2              12                 32          16   \n",
              "3             41.5           2               8                  6          28   \n",
              "4             32.0           0              12                 60          34   \n",
              "...            ...         ...             ...                ...         ...   \n",
              "48615         33.5           0               0                 16          10   \n",
              "48616         35.9           2              12                 42          18   \n",
              "48617         24.0           4               4                 58          36   \n",
              "48618         40.5           2              12                 60          34   \n",
              "48619         25.5           4               0                  2           0   \n",
              "\n",
              "       cluster  \n",
              "0            4  \n",
              "1            4  \n",
              "2            4  \n",
              "3            1  \n",
              "4            2  \n",
              "...        ...  \n",
              "48615        5  \n",
              "48616        4  \n",
              "48617        2  \n",
              "48618        2  \n",
              "48619        5  \n",
              "\n",
              "[48620 rows x 6 columns]"
            ],
            "text/html": [
              "\n",
              "  <div id=\"df-fe073d01-ac44-470f-a4d6-ebe333a6b96f\">\n",
              "    <div class=\"colab-df-container\">\n",
              "      <div>\n",
              "<style scoped>\n",
              "    .dataframe tbody tr th:only-of-type {\n",
              "        vertical-align: middle;\n",
              "    }\n",
              "\n",
              "    .dataframe tbody tr th {\n",
              "        vertical-align: top;\n",
              "    }\n",
              "\n",
              "    .dataframe thead th {\n",
              "        text-align: right;\n",
              "    }\n",
              "</style>\n",
              "<table border=\"1\" class=\"dataframe\">\n",
              "  <thead>\n",
              "    <tr style=\"text-align: right;\">\n",
              "      <th></th>\n",
              "      <th>total_price</th>\n",
              "      <th>pizza_size</th>\n",
              "      <th>pizza_category</th>\n",
              "      <th>pizza_ingredients</th>\n",
              "      <th>pizza_name</th>\n",
              "      <th>cluster</th>\n",
              "    </tr>\n",
              "  </thead>\n",
              "  <tbody>\n",
              "    <tr>\n",
              "      <th>0</th>\n",
              "      <td>26.5</td>\n",
              "      <td>0</td>\n",
              "      <td>4</td>\n",
              "      <td>44</td>\n",
              "      <td>24</td>\n",
              "      <td>4</td>\n",
              "    </tr>\n",
              "    <tr>\n",
              "      <th>1</th>\n",
              "      <td>32.0</td>\n",
              "      <td>0</td>\n",
              "      <td>4</td>\n",
              "      <td>38</td>\n",
              "      <td>14</td>\n",
              "      <td>4</td>\n",
              "    </tr>\n",
              "    <tr>\n",
              "      <th>2</th>\n",
              "      <td>37.0</td>\n",
              "      <td>2</td>\n",
              "      <td>12</td>\n",
              "      <td>32</td>\n",
              "      <td>16</td>\n",
              "      <td>4</td>\n",
              "    </tr>\n",
              "    <tr>\n",
              "      <th>3</th>\n",
              "      <td>41.5</td>\n",
              "      <td>2</td>\n",
              "      <td>8</td>\n",
              "      <td>6</td>\n",
              "      <td>28</td>\n",
              "      <td>1</td>\n",
              "    </tr>\n",
              "    <tr>\n",
              "      <th>4</th>\n",
              "      <td>32.0</td>\n",
              "      <td>0</td>\n",
              "      <td>12</td>\n",
              "      <td>60</td>\n",
              "      <td>34</td>\n",
              "      <td>2</td>\n",
              "    </tr>\n",
              "    <tr>\n",
              "      <th>...</th>\n",
              "      <td>...</td>\n",
              "      <td>...</td>\n",
              "      <td>...</td>\n",
              "      <td>...</td>\n",
              "      <td>...</td>\n",
              "      <td>...</td>\n",
              "    </tr>\n",
              "    <tr>\n",
              "      <th>48615</th>\n",
              "      <td>33.5</td>\n",
              "      <td>0</td>\n",
              "      <td>0</td>\n",
              "      <td>16</td>\n",
              "      <td>10</td>\n",
              "      <td>5</td>\n",
              "    </tr>\n",
              "    <tr>\n",
              "      <th>48616</th>\n",
              "      <td>35.9</td>\n",
              "      <td>2</td>\n",
              "      <td>12</td>\n",
              "      <td>42</td>\n",
              "      <td>18</td>\n",
              "      <td>4</td>\n",
              "    </tr>\n",
              "    <tr>\n",
              "      <th>48617</th>\n",
              "      <td>24.0</td>\n",
              "      <td>4</td>\n",
              "      <td>4</td>\n",
              "      <td>58</td>\n",
              "      <td>36</td>\n",
              "      <td>2</td>\n",
              "    </tr>\n",
              "    <tr>\n",
              "      <th>48618</th>\n",
              "      <td>40.5</td>\n",
              "      <td>2</td>\n",
              "      <td>12</td>\n",
              "      <td>60</td>\n",
              "      <td>34</td>\n",
              "      <td>2</td>\n",
              "    </tr>\n",
              "    <tr>\n",
              "      <th>48619</th>\n",
              "      <td>25.5</td>\n",
              "      <td>4</td>\n",
              "      <td>0</td>\n",
              "      <td>2</td>\n",
              "      <td>0</td>\n",
              "      <td>5</td>\n",
              "    </tr>\n",
              "  </tbody>\n",
              "</table>\n",
              "<p>48620 rows × 6 columns</p>\n",
              "</div>\n",
              "      <button class=\"colab-df-convert\" onclick=\"convertToInteractive('df-fe073d01-ac44-470f-a4d6-ebe333a6b96f')\"\n",
              "              title=\"Convert this dataframe to an interactive table.\"\n",
              "              style=\"display:none;\">\n",
              "        \n",
              "  <svg xmlns=\"http://www.w3.org/2000/svg\" height=\"24px\"viewBox=\"0 0 24 24\"\n",
              "       width=\"24px\">\n",
              "    <path d=\"M0 0h24v24H0V0z\" fill=\"none\"/>\n",
              "    <path d=\"M18.56 5.44l.94 2.06.94-2.06 2.06-.94-2.06-.94-.94-2.06-.94 2.06-2.06.94zm-11 1L8.5 8.5l.94-2.06 2.06-.94-2.06-.94L8.5 2.5l-.94 2.06-2.06.94zm10 10l.94 2.06.94-2.06 2.06-.94-2.06-.94-.94-2.06-.94 2.06-2.06.94z\"/><path d=\"M17.41 7.96l-1.37-1.37c-.4-.4-.92-.59-1.43-.59-.52 0-1.04.2-1.43.59L10.3 9.45l-7.72 7.72c-.78.78-.78 2.05 0 2.83L4 21.41c.39.39.9.59 1.41.59.51 0 1.02-.2 1.41-.59l7.78-7.78 2.81-2.81c.8-.78.8-2.07 0-2.86zM5.41 20L4 18.59l7.72-7.72 1.47 1.35L5.41 20z\"/>\n",
              "  </svg>\n",
              "      </button>\n",
              "      \n",
              "  <style>\n",
              "    .colab-df-container {\n",
              "      display:flex;\n",
              "      flex-wrap:wrap;\n",
              "      gap: 12px;\n",
              "    }\n",
              "\n",
              "    .colab-df-convert {\n",
              "      background-color: #E8F0FE;\n",
              "      border: none;\n",
              "      border-radius: 50%;\n",
              "      cursor: pointer;\n",
              "      display: none;\n",
              "      fill: #1967D2;\n",
              "      height: 32px;\n",
              "      padding: 0 0 0 0;\n",
              "      width: 32px;\n",
              "    }\n",
              "\n",
              "    .colab-df-convert:hover {\n",
              "      background-color: #E2EBFA;\n",
              "      box-shadow: 0px 1px 2px rgba(60, 64, 67, 0.3), 0px 1px 3px 1px rgba(60, 64, 67, 0.15);\n",
              "      fill: #174EA6;\n",
              "    }\n",
              "\n",
              "    [theme=dark] .colab-df-convert {\n",
              "      background-color: #3B4455;\n",
              "      fill: #D2E3FC;\n",
              "    }\n",
              "\n",
              "    [theme=dark] .colab-df-convert:hover {\n",
              "      background-color: #434B5C;\n",
              "      box-shadow: 0px 1px 3px 1px rgba(0, 0, 0, 0.15);\n",
              "      filter: drop-shadow(0px 1px 2px rgba(0, 0, 0, 0.3));\n",
              "      fill: #FFFFFF;\n",
              "    }\n",
              "  </style>\n",
              "\n",
              "      <script>\n",
              "        const buttonEl =\n",
              "          document.querySelector('#df-fe073d01-ac44-470f-a4d6-ebe333a6b96f button.colab-df-convert');\n",
              "        buttonEl.style.display =\n",
              "          google.colab.kernel.accessAllowed ? 'block' : 'none';\n",
              "\n",
              "        async function convertToInteractive(key) {\n",
              "          const element = document.querySelector('#df-fe073d01-ac44-470f-a4d6-ebe333a6b96f');\n",
              "          const dataTable =\n",
              "            await google.colab.kernel.invokeFunction('convertToInteractive',\n",
              "                                                     [key], {});\n",
              "          if (!dataTable) return;\n",
              "\n",
              "          const docLinkHtml = 'Like what you see? Visit the ' +\n",
              "            '<a target=\"_blank\" href=https://colab.research.google.com/notebooks/data_table.ipynb>data table notebook</a>'\n",
              "            + ' to learn more about interactive tables.';\n",
              "          element.innerHTML = '';\n",
              "          dataTable['output_type'] = 'display_data';\n",
              "          await google.colab.output.renderOutput(dataTable, element);\n",
              "          const docLink = document.createElement('div');\n",
              "          docLink.innerHTML = docLinkHtml;\n",
              "          element.appendChild(docLink);\n",
              "        }\n",
              "      </script>\n",
              "    </div>\n",
              "  </div>\n",
              "  "
            ]
          },
          "metadata": {},
          "execution_count": 55
        }
      ]
    },
    {
      "cell_type": "code",
      "source": [
        "df_final.groupby('cluster').mean()"
      ],
      "metadata": {
        "colab": {
          "base_uri": "https://localhost:8080/",
          "height": 331
        },
        "id": "KCAMUxRVko1n",
        "outputId": "547c4ce3-6b44-49b9-c30d-167f545872dc"
      },
      "execution_count": 56,
      "outputs": [
        {
          "output_type": "execute_result",
          "data": {
            "text/plain": [
              "         total_price  pizza_size  pizza_category  pizza_ingredients  \\\n",
              "cluster                                                               \n",
              "0          33.226114    1.991607       10.511298          46.193996   \n",
              "1          35.240418    1.502026        6.263634           6.868183   \n",
              "2          34.102246    1.751553        9.244147          56.123268   \n",
              "3          37.127240    1.957838        2.969432          14.719169   \n",
              "4          31.036551    1.952141        7.354200          41.939216   \n",
              "5          33.580943    2.196949        1.250000           7.743852   \n",
              "6          57.254720    3.285714        5.768944          27.439752   \n",
              "7          28.789802    1.937206        6.572559          29.695921   \n",
              "\n",
              "         pizza_name  \n",
              "cluster              \n",
              "0         55.577147  \n",
              "1         27.131817  \n",
              "2         33.111801  \n",
              "3         53.685590  \n",
              "4         17.431139  \n",
              "5          5.071038  \n",
              "6         23.336646  \n",
              "7         40.443263  "
            ],
            "text/html": [
              "\n",
              "  <div id=\"df-aa5b3ac7-f6a8-49c5-9375-88f74982143b\">\n",
              "    <div class=\"colab-df-container\">\n",
              "      <div>\n",
              "<style scoped>\n",
              "    .dataframe tbody tr th:only-of-type {\n",
              "        vertical-align: middle;\n",
              "    }\n",
              "\n",
              "    .dataframe tbody tr th {\n",
              "        vertical-align: top;\n",
              "    }\n",
              "\n",
              "    .dataframe thead th {\n",
              "        text-align: right;\n",
              "    }\n",
              "</style>\n",
              "<table border=\"1\" class=\"dataframe\">\n",
              "  <thead>\n",
              "    <tr style=\"text-align: right;\">\n",
              "      <th></th>\n",
              "      <th>total_price</th>\n",
              "      <th>pizza_size</th>\n",
              "      <th>pizza_category</th>\n",
              "      <th>pizza_ingredients</th>\n",
              "      <th>pizza_name</th>\n",
              "    </tr>\n",
              "    <tr>\n",
              "      <th>cluster</th>\n",
              "      <th></th>\n",
              "      <th></th>\n",
              "      <th></th>\n",
              "      <th></th>\n",
              "      <th></th>\n",
              "    </tr>\n",
              "  </thead>\n",
              "  <tbody>\n",
              "    <tr>\n",
              "      <th>0</th>\n",
              "      <td>33.226114</td>\n",
              "      <td>1.991607</td>\n",
              "      <td>10.511298</td>\n",
              "      <td>46.193996</td>\n",
              "      <td>55.577147</td>\n",
              "    </tr>\n",
              "    <tr>\n",
              "      <th>1</th>\n",
              "      <td>35.240418</td>\n",
              "      <td>1.502026</td>\n",
              "      <td>6.263634</td>\n",
              "      <td>6.868183</td>\n",
              "      <td>27.131817</td>\n",
              "    </tr>\n",
              "    <tr>\n",
              "      <th>2</th>\n",
              "      <td>34.102246</td>\n",
              "      <td>1.751553</td>\n",
              "      <td>9.244147</td>\n",
              "      <td>56.123268</td>\n",
              "      <td>33.111801</td>\n",
              "    </tr>\n",
              "    <tr>\n",
              "      <th>3</th>\n",
              "      <td>37.127240</td>\n",
              "      <td>1.957838</td>\n",
              "      <td>2.969432</td>\n",
              "      <td>14.719169</td>\n",
              "      <td>53.685590</td>\n",
              "    </tr>\n",
              "    <tr>\n",
              "      <th>4</th>\n",
              "      <td>31.036551</td>\n",
              "      <td>1.952141</td>\n",
              "      <td>7.354200</td>\n",
              "      <td>41.939216</td>\n",
              "      <td>17.431139</td>\n",
              "    </tr>\n",
              "    <tr>\n",
              "      <th>5</th>\n",
              "      <td>33.580943</td>\n",
              "      <td>2.196949</td>\n",
              "      <td>1.250000</td>\n",
              "      <td>7.743852</td>\n",
              "      <td>5.071038</td>\n",
              "    </tr>\n",
              "    <tr>\n",
              "      <th>6</th>\n",
              "      <td>57.254720</td>\n",
              "      <td>3.285714</td>\n",
              "      <td>5.768944</td>\n",
              "      <td>27.439752</td>\n",
              "      <td>23.336646</td>\n",
              "    </tr>\n",
              "    <tr>\n",
              "      <th>7</th>\n",
              "      <td>28.789802</td>\n",
              "      <td>1.937206</td>\n",
              "      <td>6.572559</td>\n",
              "      <td>29.695921</td>\n",
              "      <td>40.443263</td>\n",
              "    </tr>\n",
              "  </tbody>\n",
              "</table>\n",
              "</div>\n",
              "      <button class=\"colab-df-convert\" onclick=\"convertToInteractive('df-aa5b3ac7-f6a8-49c5-9375-88f74982143b')\"\n",
              "              title=\"Convert this dataframe to an interactive table.\"\n",
              "              style=\"display:none;\">\n",
              "        \n",
              "  <svg xmlns=\"http://www.w3.org/2000/svg\" height=\"24px\"viewBox=\"0 0 24 24\"\n",
              "       width=\"24px\">\n",
              "    <path d=\"M0 0h24v24H0V0z\" fill=\"none\"/>\n",
              "    <path d=\"M18.56 5.44l.94 2.06.94-2.06 2.06-.94-2.06-.94-.94-2.06-.94 2.06-2.06.94zm-11 1L8.5 8.5l.94-2.06 2.06-.94-2.06-.94L8.5 2.5l-.94 2.06-2.06.94zm10 10l.94 2.06.94-2.06 2.06-.94-2.06-.94-.94-2.06-.94 2.06-2.06.94z\"/><path d=\"M17.41 7.96l-1.37-1.37c-.4-.4-.92-.59-1.43-.59-.52 0-1.04.2-1.43.59L10.3 9.45l-7.72 7.72c-.78.78-.78 2.05 0 2.83L4 21.41c.39.39.9.59 1.41.59.51 0 1.02-.2 1.41-.59l7.78-7.78 2.81-2.81c.8-.78.8-2.07 0-2.86zM5.41 20L4 18.59l7.72-7.72 1.47 1.35L5.41 20z\"/>\n",
              "  </svg>\n",
              "      </button>\n",
              "      \n",
              "  <style>\n",
              "    .colab-df-container {\n",
              "      display:flex;\n",
              "      flex-wrap:wrap;\n",
              "      gap: 12px;\n",
              "    }\n",
              "\n",
              "    .colab-df-convert {\n",
              "      background-color: #E8F0FE;\n",
              "      border: none;\n",
              "      border-radius: 50%;\n",
              "      cursor: pointer;\n",
              "      display: none;\n",
              "      fill: #1967D2;\n",
              "      height: 32px;\n",
              "      padding: 0 0 0 0;\n",
              "      width: 32px;\n",
              "    }\n",
              "\n",
              "    .colab-df-convert:hover {\n",
              "      background-color: #E2EBFA;\n",
              "      box-shadow: 0px 1px 2px rgba(60, 64, 67, 0.3), 0px 1px 3px 1px rgba(60, 64, 67, 0.15);\n",
              "      fill: #174EA6;\n",
              "    }\n",
              "\n",
              "    [theme=dark] .colab-df-convert {\n",
              "      background-color: #3B4455;\n",
              "      fill: #D2E3FC;\n",
              "    }\n",
              "\n",
              "    [theme=dark] .colab-df-convert:hover {\n",
              "      background-color: #434B5C;\n",
              "      box-shadow: 0px 1px 3px 1px rgba(0, 0, 0, 0.15);\n",
              "      filter: drop-shadow(0px 1px 2px rgba(0, 0, 0, 0.3));\n",
              "      fill: #FFFFFF;\n",
              "    }\n",
              "  </style>\n",
              "\n",
              "      <script>\n",
              "        const buttonEl =\n",
              "          document.querySelector('#df-aa5b3ac7-f6a8-49c5-9375-88f74982143b button.colab-df-convert');\n",
              "        buttonEl.style.display =\n",
              "          google.colab.kernel.accessAllowed ? 'block' : 'none';\n",
              "\n",
              "        async function convertToInteractive(key) {\n",
              "          const element = document.querySelector('#df-aa5b3ac7-f6a8-49c5-9375-88f74982143b');\n",
              "          const dataTable =\n",
              "            await google.colab.kernel.invokeFunction('convertToInteractive',\n",
              "                                                     [key], {});\n",
              "          if (!dataTable) return;\n",
              "\n",
              "          const docLinkHtml = 'Like what you see? Visit the ' +\n",
              "            '<a target=\"_blank\" href=https://colab.research.google.com/notebooks/data_table.ipynb>data table notebook</a>'\n",
              "            + ' to learn more about interactive tables.';\n",
              "          element.innerHTML = '';\n",
              "          dataTable['output_type'] = 'display_data';\n",
              "          await google.colab.output.renderOutput(dataTable, element);\n",
              "          const docLink = document.createElement('div');\n",
              "          docLink.innerHTML = docLinkHtml;\n",
              "          element.appendChild(docLink);\n",
              "        }\n",
              "      </script>\n",
              "    </div>\n",
              "  </div>\n",
              "  "
            ]
          },
          "metadata": {},
          "execution_count": 56
        }
      ]
    },
    {
      "cell_type": "markdown",
      "source": [
        "\n",
        "\n",
        "\n",
        "-> relatório final(resultados obtidos na clusterização)\n",
        "-> plotar os graficos finais\n",
        "-> documentação(parte escrita)\n",
        "\n",
        "\n",
        "\n",
        "\n",
        "```\n",
        "\n"
      ],
      "metadata": {
        "id": "AX_GWNcN8Iyh"
      }
    }
  ]
}